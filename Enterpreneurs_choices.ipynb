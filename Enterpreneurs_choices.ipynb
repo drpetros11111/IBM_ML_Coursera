{
  "nbformat": 4,
  "nbformat_minor": 0,
  "metadata": {
    "colab": {
      "provenance": [],
      "include_colab_link": true
    },
    "kernelspec": {
      "name": "python3",
      "display_name": "Python 3"
    }
  },
  "cells": [
    {
      "cell_type": "markdown",
      "metadata": {
        "id": "view-in-github",
        "colab_type": "text"
      },
      "source": [
        "<a href=\"https://colab.research.google.com/github/drpetros11111/IBM_ML_Coursera/blob/IBM-Supervised-Learning/Enterpreneurs_choices.ipynb\" target=\"_parent\"><img src=\"https://colab.research.google.com/assets/colab-badge.svg\" alt=\"Open In Colab\"/></a>"
      ]
    },
    {
      "cell_type": "markdown",
      "source": [
        "#The Goal: Optimizing R&D and Marketing Spend for Startup Profitability\n",
        "As a business analyst, my objective is to maximize the profitability of a startup company by optimizing the allocation of resources towards Research and Development (R&D) and Marketing expenditures.\n",
        "\n",
        "The dataset at hand (50_Startups.csv) contains valuable information on R&D Spend, Administration expenses, Marketing Spend, State, and the resulting Profit of 50 startups . By utilizing multiple linear regression, I aim to identify the ideal balance between R&D and Marketing investments that will lead to the highest level of profitability for the startup across different US states.\n",
        "\n",
        "\n",
        "---\n",
        "\n",
        "\n",
        "**Data Description**:\n",
        "The dataset comprises five key features:\n",
        "\n",
        "**R&D Spend**\n",
        "\n",
        "The amount invested in research and development initiatives.\n",
        "\n",
        "**Administration**\n",
        "\n",
        "The administrative expenses incurred in managing the business operations.\n",
        "\n",
        "**Marketing Spend**\n",
        "\n",
        "The funds dedicated to marketing and promotional activities.\n",
        "\n",
        "**State**\n",
        "\n",
        "The geographic location of the startup's operation.\n",
        "Profit: The resulting profitability achieved by the startup.\n",
        "\n",
        "Since the \"State\" column contains categorical data with different US states, I intend to use one-hot encoding to represent these states in a binary vector format.\n",
        "\n",
        "##Key Success Criteria\n",
        "\n",
        "As a business analyst, I am tasked with exploring the potential trade-off between R&D and Marketing spend for startups in the context of different US states to maximize profit.\n",
        "\n",
        "To analyze this, I will utilize multiple linear regression, taking into account features such as R&D Spend, Administration, Marketing Spend, and State.\n",
        "\n",
        "Since the State feature has 50 unique values (representing the 50 states in the US), I will use one-hot encoding to transform the categorical data into binary codes.\n",
        "\n",
        "This approach will enable me to effectively include the state information in the regression analysis without imposing any ordinal relationships among the states.\n",
        "\n",
        "By performing multiple linear regression with the one-hot encoded data, I aim to identify patterns and relationships between R&D, marketing spend, and profitability for startups in different US states.\n",
        "\n",
        "This analysis will help me gain insights into how resource allocation impacts profits in various regions and how startups can optimize their strategies to achieve better financial results within the Lean Startup approach.\n",
        "\n",
        " Ultimately, this information will aid startup companies and especially the enterpreneurs in making data-driven decisions to maximize their profitability while considering the unique economic and market conditions of each US state.\n",
        "\n",
        "\n",
        "\n",
        "\n",
        "\n",
        "\n",
        "\n",
        "\n",
        "---\n",
        "\n",
        "\n",
        "---\n",
        "\n",
        "\n",
        "\n",
        "##Methodological Bias\n",
        "In this report, I, as a business analyst, approach the challenge of optimizing profitability for startups with a theoretical bias towards the **Lean Startup approach**.\n",
        "\n",
        "As a strong advocate of this methodology, I emphasize the significance of rapid experimentation, continuous learning, and data-driven decision-making.\n",
        "\n",
        "Through the lens of the Lean Startup philosophy, I explore the delicate trade-off between R&D (Research & Development) and marketing spend for startup companies.\n",
        "\n",
        "By leveraging multiple linear regression and analyzing the dataset's features R&D Spend, Administration, Marketing Spend, State, and Profit I aim to uncover valuable insights.\n",
        "\n",
        "Embracing the Lean Startup principles, I strive to help entrepreneurs allocate their resources efficiently and navigate the complexities of different US states' markets.\n",
        "\n",
        "By adopting a lean and agile approach, startups can identify the most promising paths to profitability, adapt quickly to changing circumstances, and position themselves for sustainable growth.\n",
        "\n",
        "The theoretical underpinning of the Lean Startup philosophy fuels my analysis, empowering startups to make informed decisions and embark on a journey of innovation, resilience, and success.\n",
        "\n",
        "As a business analyst, my commitment to the Lean Startup mindset drives me to support startups in their pursuit of maximum profitability and a flourishing future.\n",
        "\n",
        "\n",
        "\n",
        "\n",
        "---\n",
        "\n",
        "\n",
        "\n",
        "---\n",
        "\n",
        "\n",
        "---\n",
        "## Data Assumptions\n",
        "\n",
        "I start with the assumption that there is no multicollinearity between the features in the dataset.\n",
        "\n",
        "Multicollinearity occurs when two or more independent variables are highly correlated with each other, which can lead to misleading results in the multiple linear regression model.\n",
        "\n",
        "By ensuring that there is no multicollinearity, I can confidently interpret the coefficients of the independent variables and understand their individual impact on the dependent variable (profit).\n",
        "\n",
        "This allows me to accurately assess the trade-off between R&D spend and marketing expenses for startups in different US states.\n",
        "\n",
        "To validate this assumption, I have conducted a thorough analysis of the correlation matrix between the independent variables but I did not find any significant multi-colinearity.\n",
        "\n",
        "By starting with this foundational assumption, I can build a robust and reliable multiple linear regression model that helps startups make data-driven decisions and achieve a balanced approach to allocating resources between R&D and marketing for maximizing their profitability in the dynamic business environment.\n",
        "\n",
        "---\n",
        "\n",
        "\n",
        "\n",
        "---\n",
        "\n",
        "\n",
        "\n",
        "\n",
        "\n",
        "---\n",
        "\n",
        "\n",
        "\n",
        "---\n",
        "\n",
        "\n",
        "\n",
        "##The Choice of the Algorithm -Multiple Linear Regression\n",
        "\n",
        "I plan to employ multiple linear regression to analyze the impact of R&D and Marketing Spend on the startup's Profit in different US states.\n",
        "\n",
        "By examining the coefficients of the regression model, we can determine the optimal levels of R&D and Marketing investments to achieve the maximum profitability for the startup.\n",
        "\n",
        "**Analysis**\n",
        "\n",
        "Through the regression analysis, we will identify the significance of R&D and Marketing Spend as predictors of Profitability.\n",
        "\n",
        "By exploring the relationships between these variables and Profit, we will be able to recommend the ideal trade-off between R&D and Marketing investments in each state to maximize overall profitability.\n",
        "\n",
        "\n",
        "---\n",
        "\n",
        "\n",
        "**Expected Outcomes**\n",
        "\n",
        "I anticipate that the multiple linear regression will provide the following insights:\n",
        "\n",
        "The significance of R&D and Marketing Spend in predicting Profitability for the startup.\n",
        "\n",
        "The optimal levels of R&D and Marketing investments in each state to achieve the highest Profit.\n",
        "States where a higher proportion of R&D investment leads to substantial returns.\n",
        "States where increased Marketing Spend results in a significant boost in profitability."
      ],
      "metadata": {
        "id": "uaziTDKMH6ij"
      }
    },
    {
      "cell_type": "markdown",
      "metadata": {
        "id": "pOyqYHTk_Q57"
      },
      "source": [
        "## Importing the libraries"
      ]
    },
    {
      "cell_type": "code",
      "source": [
        "import numpy as np\n",
        "import matplotlib.pyplot as plt\n",
        "import pandas as pd"
      ],
      "metadata": {
        "id": "SYT6OSPUrMnT"
      },
      "execution_count": 2,
      "outputs": []
    },
    {
      "cell_type": "markdown",
      "source": [
        "#Importing the Dataset"
      ],
      "metadata": {
        "id": "0VhGm-U7tEDx"
      }
    },
    {
      "cell_type": "code",
      "source": [
        "from google.colab import drive\n",
        "drive.mount('/content/drive')"
      ],
      "metadata": {
        "colab": {
          "base_uri": "https://localhost:8080/",
          "height": 0
        },
        "id": "Hi3f8zxNt_nV",
        "outputId": "fae4e202-7b26-4b68-d785-aa660820011b"
      },
      "execution_count": 3,
      "outputs": [
        {
          "output_type": "stream",
          "name": "stdout",
          "text": [
            "Drive already mounted at /content/drive; to attempt to forcibly remount, call drive.mount(\"/content/drive\", force_remount=True).\n"
          ]
        }
      ]
    },
    {
      "cell_type": "code",
      "source": [
        "dataset = pd.read_csv('/content/50_Startups.csv')\n",
        "dataset.head()\n",
        "X = dataset.iloc[:, :-1].values\n",
        "y =dataset.iloc[:, -1].values"
      ],
      "metadata": {
        "id": "RN32AWbctKea"
      },
      "execution_count": 4,
      "outputs": []
    },
    {
      "cell_type": "code",
      "source": [
        "dataset.shape\n"
      ],
      "metadata": {
        "colab": {
          "base_uri": "https://localhost:8080/",
          "height": 0
        },
        "id": "ckbHLUnieXDX",
        "outputId": "3ffb05e8-78f5-49e3-e7fd-14b1deab843c"
      },
      "execution_count": 23,
      "outputs": [
        {
          "output_type": "execute_result",
          "data": {
            "text/plain": [
              "(50, 5)"
            ]
          },
          "metadata": {},
          "execution_count": 23
        }
      ]
    },
    {
      "cell_type": "code",
      "source": [
        "print(X)"
      ],
      "metadata": {
        "colab": {
          "base_uri": "https://localhost:8080/",
          "height": 0
        },
        "id": "XgEZeCE4vsGI",
        "outputId": "55ea0ce7-11f3-4ee7-ec28-0de873d4d251"
      },
      "execution_count": 5,
      "outputs": [
        {
          "output_type": "stream",
          "name": "stdout",
          "text": [
            "[[165349.2 136897.8 471784.1 'New York']\n",
            " [162597.7 151377.59 443898.53 'California']\n",
            " [153441.51 101145.55 407934.54 'Florida']\n",
            " [144372.41 118671.85 383199.62 'New York']\n",
            " [142107.34 91391.77 366168.42 'Florida']\n",
            " [131876.9 99814.71 362861.36 'New York']\n",
            " [134615.46 147198.87 127716.82 'California']\n",
            " [130298.13 145530.06 323876.68 'Florida']\n",
            " [120542.52 148718.95 311613.29 'New York']\n",
            " [123334.88 108679.17 304981.62 'California']\n",
            " [101913.08 110594.11 229160.95 'Florida']\n",
            " [100671.96 91790.61 249744.55 'California']\n",
            " [93863.75 127320.38 249839.44 'Florida']\n",
            " [91992.39 135495.07 252664.93 'California']\n",
            " [119943.24 156547.42 256512.92 'Florida']\n",
            " [114523.61 122616.84 261776.23 'New York']\n",
            " [78013.11 121597.55 264346.06 'California']\n",
            " [94657.16 145077.58 282574.31 'New York']\n",
            " [91749.16 114175.79 294919.57 'Florida']\n",
            " [86419.7 153514.11 0.0 'New York']\n",
            " [76253.86 113867.3 298664.47 'California']\n",
            " [78389.47 153773.43 299737.29 'New York']\n",
            " [73994.56 122782.75 303319.26 'Florida']\n",
            " [67532.53 105751.03 304768.73 'Florida']\n",
            " [77044.01 99281.34 140574.81 'New York']\n",
            " [64664.71 139553.16 137962.62 'California']\n",
            " [75328.87 144135.98 134050.07 'Florida']\n",
            " [72107.6 127864.55 353183.81 'New York']\n",
            " [66051.52 182645.56 118148.2 'Florida']\n",
            " [65605.48 153032.06 107138.38 'New York']\n",
            " [61994.48 115641.28 91131.24 'Florida']\n",
            " [61136.38 152701.92 88218.23 'New York']\n",
            " [63408.86 129219.61 46085.25 'California']\n",
            " [55493.95 103057.49 214634.81 'Florida']\n",
            " [46426.07 157693.92 210797.67 'California']\n",
            " [46014.02 85047.44 205517.64 'New York']\n",
            " [28663.76 127056.21 201126.82 'Florida']\n",
            " [44069.95 51283.14 197029.42 'California']\n",
            " [20229.59 65947.93 185265.1 'New York']\n",
            " [38558.51 82982.09 174999.3 'California']\n",
            " [28754.33 118546.05 172795.67 'California']\n",
            " [27892.92 84710.77 164470.71 'Florida']\n",
            " [23640.93 96189.63 148001.11 'California']\n",
            " [15505.73 127382.3 35534.17 'New York']\n",
            " [22177.74 154806.14 28334.72 'California']\n",
            " [1000.23 124153.04 1903.93 'New York']\n",
            " [1315.46 115816.21 297114.46 'Florida']\n",
            " [0.0 135426.92 0.0 'California']\n",
            " [542.05 51743.15 0.0 'New York']\n",
            " [0.0 116983.8 45173.06 'California']]\n"
          ]
        }
      ]
    },
    {
      "cell_type": "code",
      "source": [
        "print(y)"
      ],
      "metadata": {
        "colab": {
          "base_uri": "https://localhost:8080/",
          "height": 0
        },
        "id": "pbScJBZZvwdL",
        "outputId": "e6e99220-7601-4483-deb0-0344646baf64"
      },
      "execution_count": 6,
      "outputs": [
        {
          "output_type": "stream",
          "name": "stdout",
          "text": [
            "[192261.83 191792.06 191050.39 182901.99 166187.94 156991.12 156122.51\n",
            " 155752.6  152211.77 149759.96 146121.95 144259.4  141585.52 134307.35\n",
            " 132602.65 129917.04 126992.93 125370.37 124266.9  122776.86 118474.03\n",
            " 111313.02 110352.25 108733.99 108552.04 107404.34 105733.54 105008.31\n",
            " 103282.38 101004.64  99937.59  97483.56  97427.84  96778.92  96712.8\n",
            "  96479.51  90708.19  89949.14  81229.06  81005.76  78239.91  77798.83\n",
            "  71498.49  69758.98  65200.33  64926.08  49490.75  42559.73  35673.41\n",
            "  14681.4 ]\n"
          ]
        }
      ]
    },
    {
      "cell_type": "markdown",
      "metadata": {
        "id": "VadrvE7s_lS9"
      },
      "source": [
        "## Encoding categorical data"
      ]
    },
    {
      "cell_type": "code",
      "source": [
        "from sklearn.compose import ColumnTransformer\n",
        "from sklearn.preprocessing import OneHotEncoder\n",
        "ct = ColumnTransformer(transformers=[('encoder', OneHotEncoder(), [3])], remainder='passthrough')\n",
        "X = np.array(ct.fit_transform(X))"
      ],
      "metadata": {
        "id": "AiectyZ8wGvi"
      },
      "execution_count": 7,
      "outputs": []
    },
    {
      "cell_type": "code",
      "source": [
        "print(X)"
      ],
      "metadata": {
        "colab": {
          "base_uri": "https://localhost:8080/",
          "height": 0
        },
        "id": "0Fbst9kj06sE",
        "outputId": "1a58cff6-c93d-45b4-bb3d-9e98cee8e1f5"
      },
      "execution_count": 8,
      "outputs": [
        {
          "output_type": "stream",
          "name": "stdout",
          "text": [
            "[[0.0 0.0 1.0 165349.2 136897.8 471784.1]\n",
            " [1.0 0.0 0.0 162597.7 151377.59 443898.53]\n",
            " [0.0 1.0 0.0 153441.51 101145.55 407934.54]\n",
            " [0.0 0.0 1.0 144372.41 118671.85 383199.62]\n",
            " [0.0 1.0 0.0 142107.34 91391.77 366168.42]\n",
            " [0.0 0.0 1.0 131876.9 99814.71 362861.36]\n",
            " [1.0 0.0 0.0 134615.46 147198.87 127716.82]\n",
            " [0.0 1.0 0.0 130298.13 145530.06 323876.68]\n",
            " [0.0 0.0 1.0 120542.52 148718.95 311613.29]\n",
            " [1.0 0.0 0.0 123334.88 108679.17 304981.62]\n",
            " [0.0 1.0 0.0 101913.08 110594.11 229160.95]\n",
            " [1.0 0.0 0.0 100671.96 91790.61 249744.55]\n",
            " [0.0 1.0 0.0 93863.75 127320.38 249839.44]\n",
            " [1.0 0.0 0.0 91992.39 135495.07 252664.93]\n",
            " [0.0 1.0 0.0 119943.24 156547.42 256512.92]\n",
            " [0.0 0.0 1.0 114523.61 122616.84 261776.23]\n",
            " [1.0 0.0 0.0 78013.11 121597.55 264346.06]\n",
            " [0.0 0.0 1.0 94657.16 145077.58 282574.31]\n",
            " [0.0 1.0 0.0 91749.16 114175.79 294919.57]\n",
            " [0.0 0.0 1.0 86419.7 153514.11 0.0]\n",
            " [1.0 0.0 0.0 76253.86 113867.3 298664.47]\n",
            " [0.0 0.0 1.0 78389.47 153773.43 299737.29]\n",
            " [0.0 1.0 0.0 73994.56 122782.75 303319.26]\n",
            " [0.0 1.0 0.0 67532.53 105751.03 304768.73]\n",
            " [0.0 0.0 1.0 77044.01 99281.34 140574.81]\n",
            " [1.0 0.0 0.0 64664.71 139553.16 137962.62]\n",
            " [0.0 1.0 0.0 75328.87 144135.98 134050.07]\n",
            " [0.0 0.0 1.0 72107.6 127864.55 353183.81]\n",
            " [0.0 1.0 0.0 66051.52 182645.56 118148.2]\n",
            " [0.0 0.0 1.0 65605.48 153032.06 107138.38]\n",
            " [0.0 1.0 0.0 61994.48 115641.28 91131.24]\n",
            " [0.0 0.0 1.0 61136.38 152701.92 88218.23]\n",
            " [1.0 0.0 0.0 63408.86 129219.61 46085.25]\n",
            " [0.0 1.0 0.0 55493.95 103057.49 214634.81]\n",
            " [1.0 0.0 0.0 46426.07 157693.92 210797.67]\n",
            " [0.0 0.0 1.0 46014.02 85047.44 205517.64]\n",
            " [0.0 1.0 0.0 28663.76 127056.21 201126.82]\n",
            " [1.0 0.0 0.0 44069.95 51283.14 197029.42]\n",
            " [0.0 0.0 1.0 20229.59 65947.93 185265.1]\n",
            " [1.0 0.0 0.0 38558.51 82982.09 174999.3]\n",
            " [1.0 0.0 0.0 28754.33 118546.05 172795.67]\n",
            " [0.0 1.0 0.0 27892.92 84710.77 164470.71]\n",
            " [1.0 0.0 0.0 23640.93 96189.63 148001.11]\n",
            " [0.0 0.0 1.0 15505.73 127382.3 35534.17]\n",
            " [1.0 0.0 0.0 22177.74 154806.14 28334.72]\n",
            " [0.0 0.0 1.0 1000.23 124153.04 1903.93]\n",
            " [0.0 1.0 0.0 1315.46 115816.21 297114.46]\n",
            " [1.0 0.0 0.0 0.0 135426.92 0.0]\n",
            " [0.0 0.0 1.0 542.05 51743.15 0.0]\n",
            " [1.0 0.0 0.0 0.0 116983.8 45173.06]]\n"
          ]
        }
      ]
    },
    {
      "cell_type": "markdown",
      "metadata": {
        "id": "WemVnqgeA70k"
      },
      "source": [
        "## Splitting the dataset into the Training set and Test set"
      ]
    },
    {
      "cell_type": "code",
      "source": [
        "from sklearn.model_selection import train_test_split\n",
        "X_train, X_test, y_train, y_test = train_test_split(X, y, test_size =0.2, random_state=0)"
      ],
      "metadata": {
        "id": "3kh-5vaq187n"
      },
      "execution_count": 9,
      "outputs": []
    },
    {
      "cell_type": "markdown",
      "metadata": {
        "id": "k-McZVsQBINc"
      },
      "source": [
        "## Training the Multiple Linear Regression model on the Training set"
      ]
    },
    {
      "cell_type": "code",
      "source": [
        "from sklearn.linear_model import LinearRegression\n",
        "regressor = LinearRegression()\n",
        "regressor.fit(X_train, y_train)"
      ],
      "metadata": {
        "colab": {
          "base_uri": "https://localhost:8080/",
          "height": 74
        },
        "id": "6jZqEchO3FXD",
        "outputId": "2066d4f0-9f06-4725-cb11-cf99d0013325"
      },
      "execution_count": 10,
      "outputs": [
        {
          "output_type": "execute_result",
          "data": {
            "text/plain": [
              "LinearRegression()"
            ],
            "text/html": [
              "<style>#sk-container-id-1 {color: black;background-color: white;}#sk-container-id-1 pre{padding: 0;}#sk-container-id-1 div.sk-toggleable {background-color: white;}#sk-container-id-1 label.sk-toggleable__label {cursor: pointer;display: block;width: 100%;margin-bottom: 0;padding: 0.3em;box-sizing: border-box;text-align: center;}#sk-container-id-1 label.sk-toggleable__label-arrow:before {content: \"▸\";float: left;margin-right: 0.25em;color: #696969;}#sk-container-id-1 label.sk-toggleable__label-arrow:hover:before {color: black;}#sk-container-id-1 div.sk-estimator:hover label.sk-toggleable__label-arrow:before {color: black;}#sk-container-id-1 div.sk-toggleable__content {max-height: 0;max-width: 0;overflow: hidden;text-align: left;background-color: #f0f8ff;}#sk-container-id-1 div.sk-toggleable__content pre {margin: 0.2em;color: black;border-radius: 0.25em;background-color: #f0f8ff;}#sk-container-id-1 input.sk-toggleable__control:checked~div.sk-toggleable__content {max-height: 200px;max-width: 100%;overflow: auto;}#sk-container-id-1 input.sk-toggleable__control:checked~label.sk-toggleable__label-arrow:before {content: \"▾\";}#sk-container-id-1 div.sk-estimator input.sk-toggleable__control:checked~label.sk-toggleable__label {background-color: #d4ebff;}#sk-container-id-1 div.sk-label input.sk-toggleable__control:checked~label.sk-toggleable__label {background-color: #d4ebff;}#sk-container-id-1 input.sk-hidden--visually {border: 0;clip: rect(1px 1px 1px 1px);clip: rect(1px, 1px, 1px, 1px);height: 1px;margin: -1px;overflow: hidden;padding: 0;position: absolute;width: 1px;}#sk-container-id-1 div.sk-estimator {font-family: monospace;background-color: #f0f8ff;border: 1px dotted black;border-radius: 0.25em;box-sizing: border-box;margin-bottom: 0.5em;}#sk-container-id-1 div.sk-estimator:hover {background-color: #d4ebff;}#sk-container-id-1 div.sk-parallel-item::after {content: \"\";width: 100%;border-bottom: 1px solid gray;flex-grow: 1;}#sk-container-id-1 div.sk-label:hover label.sk-toggleable__label {background-color: #d4ebff;}#sk-container-id-1 div.sk-serial::before {content: \"\";position: absolute;border-left: 1px solid gray;box-sizing: border-box;top: 0;bottom: 0;left: 50%;z-index: 0;}#sk-container-id-1 div.sk-serial {display: flex;flex-direction: column;align-items: center;background-color: white;padding-right: 0.2em;padding-left: 0.2em;position: relative;}#sk-container-id-1 div.sk-item {position: relative;z-index: 1;}#sk-container-id-1 div.sk-parallel {display: flex;align-items: stretch;justify-content: center;background-color: white;position: relative;}#sk-container-id-1 div.sk-item::before, #sk-container-id-1 div.sk-parallel-item::before {content: \"\";position: absolute;border-left: 1px solid gray;box-sizing: border-box;top: 0;bottom: 0;left: 50%;z-index: -1;}#sk-container-id-1 div.sk-parallel-item {display: flex;flex-direction: column;z-index: 1;position: relative;background-color: white;}#sk-container-id-1 div.sk-parallel-item:first-child::after {align-self: flex-end;width: 50%;}#sk-container-id-1 div.sk-parallel-item:last-child::after {align-self: flex-start;width: 50%;}#sk-container-id-1 div.sk-parallel-item:only-child::after {width: 0;}#sk-container-id-1 div.sk-dashed-wrapped {border: 1px dashed gray;margin: 0 0.4em 0.5em 0.4em;box-sizing: border-box;padding-bottom: 0.4em;background-color: white;}#sk-container-id-1 div.sk-label label {font-family: monospace;font-weight: bold;display: inline-block;line-height: 1.2em;}#sk-container-id-1 div.sk-label-container {text-align: center;}#sk-container-id-1 div.sk-container {/* jupyter's `normalize.less` sets `[hidden] { display: none; }` but bootstrap.min.css set `[hidden] { display: none !important; }` so we also need the `!important` here to be able to override the default hidden behavior on the sphinx rendered scikit-learn.org. See: https://github.com/scikit-learn/scikit-learn/issues/21755 */display: inline-block !important;position: relative;}#sk-container-id-1 div.sk-text-repr-fallback {display: none;}</style><div id=\"sk-container-id-1\" class=\"sk-top-container\"><div class=\"sk-text-repr-fallback\"><pre>LinearRegression()</pre><b>In a Jupyter environment, please rerun this cell to show the HTML representation or trust the notebook. <br />On GitHub, the HTML representation is unable to render, please try loading this page with nbviewer.org.</b></div><div class=\"sk-container\" hidden><div class=\"sk-item\"><div class=\"sk-estimator sk-toggleable\"><input class=\"sk-toggleable__control sk-hidden--visually\" id=\"sk-estimator-id-1\" type=\"checkbox\" checked><label for=\"sk-estimator-id-1\" class=\"sk-toggleable__label sk-toggleable__label-arrow\">LinearRegression</label><div class=\"sk-toggleable__content\"><pre>LinearRegression()</pre></div></div></div></div></div>"
            ]
          },
          "metadata": {},
          "execution_count": 10
        }
      ]
    },
    {
      "cell_type": "markdown",
      "metadata": {
        "id": "xNkXL1YQBiBT"
      },
      "source": [
        "## Predicting the Test set results"
      ]
    },
    {
      "cell_type": "code",
      "source": [
        "y_pred = regressor.predict(X_test)\n",
        "np.set_printoptions(precision=2)\n",
        "print(np.concatenate((y_pred.reshape(len(y_pred),1), y_test.reshape(len(y_test),1)),1))"
      ],
      "metadata": {
        "colab": {
          "base_uri": "https://localhost:8080/",
          "height": 0
        },
        "id": "xLc2ICfH4KQV",
        "outputId": "25d6aa58-8560-4a04-c511-7386e55c636a"
      },
      "execution_count": 11,
      "outputs": [
        {
          "output_type": "stream",
          "name": "stdout",
          "text": [
            "[[103015.2  103282.38]\n",
            " [132582.28 144259.4 ]\n",
            " [132447.74 146121.95]\n",
            " [ 71976.1   77798.83]\n",
            " [178537.48 191050.39]\n",
            " [116161.24 105008.31]\n",
            " [ 67851.69  81229.06]\n",
            " [ 98791.73  97483.56]\n",
            " [113969.44 110352.25]\n",
            " [167921.07 166187.94]]\n"
          ]
        }
      ]
    },
    {
      "cell_type": "markdown",
      "source": [
        "##Calculating the performance of the model\n"
      ],
      "metadata": {
        "id": "HLF50hf_83O4"
      }
    },
    {
      "cell_type": "code",
      "source": [
        "from sklearn.metrics import r2_score\n",
        "# Calculate the R-squared value\n",
        "r_squared = r2_score(y_test, y_pred)\n",
        "\n",
        "print(\"R-squared:\", r_squared)"
      ],
      "metadata": {
        "colab": {
          "base_uri": "https://localhost:8080/",
          "height": 0
        },
        "id": "tmxGl2IGQhiv",
        "outputId": "5f160d6e-aedb-4dbf-b36d-120ae2527bfd"
      },
      "execution_count": 16,
      "outputs": [
        {
          "output_type": "stream",
          "name": "stdout",
          "text": [
            "R-squared: 0.9347068473282546\n"
          ]
        }
      ]
    },
    {
      "cell_type": "markdown",
      "source": [
        "##Evaluating the Performance  of the Model\n",
        "The R-squared value of 0.9347 indicates that approximately 93.47% of the variability in the profit can be explained by the independent variables (R&D Spend, Administration, Marketing Spend, State). In other words, the multiple linear regression model is able to account for a large proportion of the fluctuations in the profit based on the provided features.\n",
        "\n",
        "**A high R-squared value like 0.9347 suggests that the model is a good fit for the data and is relatively accurate in predicting the profit based on the given independent variables. It indicates that the chosen features (R&D Spend, Administration, Marketing Spend, State) collectively have a strong association with the profit.**\n",
        "\n",
        "In summary, an R-squared value of 0.9347 indicates a strong relationship between the independent variables and the profit.\n"
      ],
      "metadata": {
        "id": "sYJIpbnHakbg"
      }
    },
    {
      "cell_type": "markdown",
      "metadata": {
        "id": "5p136WrJFBLj"
      },
      "source": [
        "## Making a single prediction (for example the profit of a startup with R&D Spend = 160000, Administration Spend = 130000, Marketing Spend = 300000 and State = 'California')"
      ]
    },
    {
      "cell_type": "code",
      "metadata": {
        "id": "p7mdgRSMFsqH",
        "colab": {
          "base_uri": "https://localhost:8080/",
          "height": 0
        },
        "outputId": "bd98e08e-ecb7-4126-b4a1-a4fdefd0de95"
      },
      "source": [
        "print(regressor.predict([[1, 0, 0, 160000, 130000, 300000]]))"
      ],
      "execution_count": 12,
      "outputs": [
        {
          "output_type": "stream",
          "name": "stdout",
          "text": [
            "[181566.92]\n"
          ]
        }
      ]
    },
    {
      "cell_type": "markdown",
      "metadata": {
        "id": "TXf9NlRFGlht"
      },
      "source": [
        "Therefore, our model predicts that the profit of a Californian startup which spent 160000 in R&D, 130000 in Administration and 300000 in Marketing is $ 181566,92.\n",
        "\n",
        "**Important note 1:** Notice that the values of the features were all input in a double pair of square brackets. That's because the \"predict\" method always expects a 2D array as the format of its inputs. And putting our values into a double pair of square brackets makes the input exactly a 2D array. Simply put:\n",
        "\n",
        "$1, 0, 0, 160000, 130000, 300000 \\rightarrow \\textrm{scalars}$\n",
        "\n",
        "$[1, 0, 0, 160000, 130000, 300000] \\rightarrow \\textrm{1D array}$\n",
        "\n",
        "$[[1, 0, 0, 160000, 130000, 300000]] \\rightarrow \\textrm{2D array}$\n",
        "\n",
        "**Important note 2:** Notice also that the \"California\" state was not input as a string in the last column but as \"1, 0, 0\" in the first three columns. That's because of course the predict method expects the one-hot-encoded values of the state, and as we see in the second row of the matrix of features X, \"California\" was encoded as \"1, 0, 0\".\n",
        "\n",
        "And be careful to include these values in the first three columns, not the last three ones, because the dummy variables are always created in the first columns."
      ]
    },
    {
      "cell_type": "code",
      "metadata": {
        "id": "HtuCxTkwKVPa",
        "colab": {
          "base_uri": "https://localhost:8080/",
          "height": 0
        },
        "outputId": "6f7274fe-38f5-4646-faae-ee36aa16269e"
      },
      "source": [
        "print(regressor.coef_)\n",
        "print(regressor.intercept_)"
      ],
      "execution_count": 13,
      "outputs": [
        {
          "output_type": "stream",
          "name": "stdout",
          "text": [
            "[ 8.66e+01 -8.73e+02  7.86e+02  7.73e-01  3.29e-02  3.66e-02]\n",
            "42467.52924853278\n"
          ]
        }
      ]
    },
    {
      "cell_type": "markdown",
      "metadata": {
        "id": "mMXYYf3IKcnk"
      },
      "source": [
        "##Determine the equation of the multiple linear regression model\n",
        "\n",
        "\n",
        "---\n",
        "\n",
        "\n",
        "**$$\\textrm{Profit} = 86.6 \\times \\textrm{Dummy State 1, California} - 873 \\times \\textrm{Dummy State 2, Florida} + 786 \\times \\textrm{Dummy State 3, New York} + 0.773 \\times \\textrm{R&D Spend} + 0.0329 \\times \\textrm{Administration} + 0.0366 \\times \\textrm{Marketing Spend} + 42467.53$$**\n",
        "\n",
        "\n",
        "\n",
        "---\n",
        "\n",
        "\n",
        "\n",
        "**Important Note:**\n",
        "To get these coefficients we called the \"coef_\" and \"intercept_\" attributes from our regressor object.\n"
      ]
    },
    {
      "cell_type": "markdown",
      "source": [
        "#Conclusion and Recommendation\n",
        "Based on the coefficients in the multiple linear regression equation, it appears **that R&D Spend has a significantly larger impact on the profit compared to Marketing Spend. The weight of R&D Spend (0.773) is approximately 21 times larger than the weight of Marketing Spend (0.0366).**\n",
        "\n",
        "**Additionally, the one-hot encoded states in the equation (Dummy State 1, Dummy State 2, Dummy State 3) indicate that being in certain states can also influence the profit.**\n",
        "\n",
        "However, since these are binary variables (0 or 1), their coefficients do not directly represent the magnitude of the impact like the continuous variables (R&D Spend and Marketing Spend).\n",
        "\n",
        "\n",
        "\n",
        "---\n",
        "\n",
        "\n",
        "---\n",
        "\n",
        "\n",
        "**Therefore, entrepreneurs looking to maximize profit may consider allocating a larger portion of their budget towards R&D initiatives.**\n",
        "\n",
        "Alongside this, entrepreneurs should also take into account the potential impact of the geographic locations (states) in which they operate. The coefficients for the states in the equation can be used to identify which states are associated with higher or lower profits.\n",
        "\n",
        "\n",
        "---\n",
        "\n",
        "\n",
        "Ultimately, while the data suggests that investing more in R&D could potentially lead to higher profits, entrepreneurs should approach resource allocation decisions with a comprehensive understanding of their unique business context, including the influence of the states they operate in.\n",
        "\n",
        "Conducting thorough market research, considering customer needs, and continuously, **as per the Lean startup guidelines**, evaluating the impact of investments are crucial for making informed decisions that align with their business goals and objectives.\n",
        "\n",
        "\n"
      ],
      "metadata": {
        "id": "OHRntrm7SuYM"
      }
    }
  ]
}