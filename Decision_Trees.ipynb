{
  "cells": [
    {
      "cell_type": "markdown",
      "metadata": {
        "id": "view-in-github",
        "colab_type": "text"
      },
      "source": [
        "<a href=\"https://colab.research.google.com/github/drpetros11111/IBM_ML_Coursera/blob/Decision_Trees/Decision_Trees.ipynb\" target=\"_parent\"><img src=\"https://colab.research.google.com/assets/colab-badge.svg\" alt=\"Open In Colab\"/></a>"
      ]
    },
    {
      "cell_type": "markdown",
      "metadata": {
        "run_control": {
          "marked": true
        },
        "id": "54yu9TRgdY1Z"
      },
      "source": [
        "# Machine Learning Foundation\n",
        "\n",
        "## Course 3, Part d: Decision Tree LAB"
      ]
    },
    {
      "cell_type": "code",
      "source": [
        "from google.colab import drive\n",
        "drive.mount('/content/drive')"
      ],
      "metadata": {
        "colab": {
          "base_uri": "https://localhost:8080/"
        },
        "id": "Z1JrBOiydb2O",
        "outputId": "5d043b47-2981-44b6-cfd2-17bbb9b80980"
      },
      "execution_count": 35,
      "outputs": [
        {
          "output_type": "stream",
          "name": "stdout",
          "text": [
            "Drive already mounted at /content/drive; to attempt to forcibly remount, call drive.mount(\"/content/drive\", force_remount=True).\n"
          ]
        }
      ]
    },
    {
      "cell_type": "markdown",
      "metadata": {
        "id": "0rTMrOHRdY1b"
      },
      "source": [
        "## Introduction\n",
        "\n",
        "We will be using the wine quality data set for these exercises. This data set contains various chemical properties of wine, such as acidity, sugar, pH, and alcohol. It also contains a quality metric (3-9, with highest being better) and a color (red or white). The name of the file is `Wine_Quality_Data.csv`."
      ]
    },
    {
      "cell_type": "code",
      "execution_count": 36,
      "metadata": {
        "ExecuteTime": {
          "end_time": "2017-04-10T00:04:57.164238Z",
          "start_time": "2017-04-09T20:04:57.158472-04:00"
        },
        "id": "PkObyc-OdY1b"
      },
      "outputs": [],
      "source": [
        "import os, pandas as pd, numpy as np, matplotlib.pyplot as plt, seaborn as sns\n",
        "#os.chdir('data')\n",
        "#from colorsetup import colors, palette\n",
        "#sns.set_palette(palette)"
      ]
    },
    {
      "cell_type": "markdown",
      "metadata": {
        "id": "CyRKV2IGdY1c"
      },
      "source": [
        "## Import the Data\n",
        "\n",
        "* Import the data and examine the features.\n",
        "* We will be using all of them to predict `color` (white or red), but the colors feature will need to be integer encoded."
      ]
    },
    {
      "cell_type": "code",
      "execution_count": 37,
      "metadata": {
        "ExecuteTime": {
          "end_time": "2017-04-10T00:04:57.731417Z",
          "start_time": "2017-04-09T20:04:57.168224-04:00"
        },
        "id": "IaQK5j34dY1c"
      },
      "outputs": [],
      "source": [
        "filepath = '/content/Wine_Quality_Data.csv'\n",
        "data = pd.read_csv(filepath, sep=',')"
      ]
    },
    {
      "cell_type": "code",
      "execution_count": 38,
      "metadata": {
        "ExecuteTime": {
          "end_time": "2017-04-10T00:04:57.769148Z",
          "start_time": "2017-04-09T20:04:57.734768-04:00"
        },
        "jupyter": {
          "outputs_hidden": false
        },
        "colab": {
          "base_uri": "https://localhost:8080/",
          "height": 270
        },
        "id": "fs7nevs3dY1d",
        "outputId": "2d5c2847-fe75-4f17-9d1a-ae17e35fee74"
      },
      "outputs": [
        {
          "output_type": "execute_result",
          "data": {
            "text/plain": [
              "   fixed_acidity  volatile_acidity  citric_acid  residual_sugar  chlorides  \\\n",
              "0            7.4              0.70         0.00             1.9      0.076   \n",
              "1            7.8              0.88         0.00             2.6      0.098   \n",
              "2            7.8              0.76         0.04             2.3      0.092   \n",
              "3           11.2              0.28         0.56             1.9      0.075   \n",
              "4            7.4              0.70         0.00             1.9      0.076   \n",
              "\n",
              "   free_sulfur_dioxide  total_sulfur_dioxide  density    pH  sulphates  \\\n",
              "0                 11.0                  34.0   0.9978  3.51       0.56   \n",
              "1                 25.0                  67.0   0.9968  3.20       0.68   \n",
              "2                 15.0                  54.0   0.9970  3.26       0.65   \n",
              "3                 17.0                  60.0   0.9980  3.16       0.58   \n",
              "4                 11.0                  34.0   0.9978  3.51       0.56   \n",
              "\n",
              "   alcohol  quality color  \n",
              "0      9.4        5   red  \n",
              "1      9.8        5   red  \n",
              "2      9.8        5   red  \n",
              "3      9.8        6   red  \n",
              "4      9.4        5   red  "
            ],
            "text/html": [
              "\n",
              "\n",
              "  <div id=\"df-bc40ecd2-18d0-41bb-8960-2cc97b6d80ff\">\n",
              "    <div class=\"colab-df-container\">\n",
              "      <div>\n",
              "<style scoped>\n",
              "    .dataframe tbody tr th:only-of-type {\n",
              "        vertical-align: middle;\n",
              "    }\n",
              "\n",
              "    .dataframe tbody tr th {\n",
              "        vertical-align: top;\n",
              "    }\n",
              "\n",
              "    .dataframe thead th {\n",
              "        text-align: right;\n",
              "    }\n",
              "</style>\n",
              "<table border=\"1\" class=\"dataframe\">\n",
              "  <thead>\n",
              "    <tr style=\"text-align: right;\">\n",
              "      <th></th>\n",
              "      <th>fixed_acidity</th>\n",
              "      <th>volatile_acidity</th>\n",
              "      <th>citric_acid</th>\n",
              "      <th>residual_sugar</th>\n",
              "      <th>chlorides</th>\n",
              "      <th>free_sulfur_dioxide</th>\n",
              "      <th>total_sulfur_dioxide</th>\n",
              "      <th>density</th>\n",
              "      <th>pH</th>\n",
              "      <th>sulphates</th>\n",
              "      <th>alcohol</th>\n",
              "      <th>quality</th>\n",
              "      <th>color</th>\n",
              "    </tr>\n",
              "  </thead>\n",
              "  <tbody>\n",
              "    <tr>\n",
              "      <th>0</th>\n",
              "      <td>7.4</td>\n",
              "      <td>0.70</td>\n",
              "      <td>0.00</td>\n",
              "      <td>1.9</td>\n",
              "      <td>0.076</td>\n",
              "      <td>11.0</td>\n",
              "      <td>34.0</td>\n",
              "      <td>0.9978</td>\n",
              "      <td>3.51</td>\n",
              "      <td>0.56</td>\n",
              "      <td>9.4</td>\n",
              "      <td>5</td>\n",
              "      <td>red</td>\n",
              "    </tr>\n",
              "    <tr>\n",
              "      <th>1</th>\n",
              "      <td>7.8</td>\n",
              "      <td>0.88</td>\n",
              "      <td>0.00</td>\n",
              "      <td>2.6</td>\n",
              "      <td>0.098</td>\n",
              "      <td>25.0</td>\n",
              "      <td>67.0</td>\n",
              "      <td>0.9968</td>\n",
              "      <td>3.20</td>\n",
              "      <td>0.68</td>\n",
              "      <td>9.8</td>\n",
              "      <td>5</td>\n",
              "      <td>red</td>\n",
              "    </tr>\n",
              "    <tr>\n",
              "      <th>2</th>\n",
              "      <td>7.8</td>\n",
              "      <td>0.76</td>\n",
              "      <td>0.04</td>\n",
              "      <td>2.3</td>\n",
              "      <td>0.092</td>\n",
              "      <td>15.0</td>\n",
              "      <td>54.0</td>\n",
              "      <td>0.9970</td>\n",
              "      <td>3.26</td>\n",
              "      <td>0.65</td>\n",
              "      <td>9.8</td>\n",
              "      <td>5</td>\n",
              "      <td>red</td>\n",
              "    </tr>\n",
              "    <tr>\n",
              "      <th>3</th>\n",
              "      <td>11.2</td>\n",
              "      <td>0.28</td>\n",
              "      <td>0.56</td>\n",
              "      <td>1.9</td>\n",
              "      <td>0.075</td>\n",
              "      <td>17.0</td>\n",
              "      <td>60.0</td>\n",
              "      <td>0.9980</td>\n",
              "      <td>3.16</td>\n",
              "      <td>0.58</td>\n",
              "      <td>9.8</td>\n",
              "      <td>6</td>\n",
              "      <td>red</td>\n",
              "    </tr>\n",
              "    <tr>\n",
              "      <th>4</th>\n",
              "      <td>7.4</td>\n",
              "      <td>0.70</td>\n",
              "      <td>0.00</td>\n",
              "      <td>1.9</td>\n",
              "      <td>0.076</td>\n",
              "      <td>11.0</td>\n",
              "      <td>34.0</td>\n",
              "      <td>0.9978</td>\n",
              "      <td>3.51</td>\n",
              "      <td>0.56</td>\n",
              "      <td>9.4</td>\n",
              "      <td>5</td>\n",
              "      <td>red</td>\n",
              "    </tr>\n",
              "  </tbody>\n",
              "</table>\n",
              "</div>\n",
              "      <button class=\"colab-df-convert\" onclick=\"convertToInteractive('df-bc40ecd2-18d0-41bb-8960-2cc97b6d80ff')\"\n",
              "              title=\"Convert this dataframe to an interactive table.\"\n",
              "              style=\"display:none;\">\n",
              "\n",
              "  <svg xmlns=\"http://www.w3.org/2000/svg\" height=\"24px\"viewBox=\"0 0 24 24\"\n",
              "       width=\"24px\">\n",
              "    <path d=\"M0 0h24v24H0V0z\" fill=\"none\"/>\n",
              "    <path d=\"M18.56 5.44l.94 2.06.94-2.06 2.06-.94-2.06-.94-.94-2.06-.94 2.06-2.06.94zm-11 1L8.5 8.5l.94-2.06 2.06-.94-2.06-.94L8.5 2.5l-.94 2.06-2.06.94zm10 10l.94 2.06.94-2.06 2.06-.94-2.06-.94-.94-2.06-.94 2.06-2.06.94z\"/><path d=\"M17.41 7.96l-1.37-1.37c-.4-.4-.92-.59-1.43-.59-.52 0-1.04.2-1.43.59L10.3 9.45l-7.72 7.72c-.78.78-.78 2.05 0 2.83L4 21.41c.39.39.9.59 1.41.59.51 0 1.02-.2 1.41-.59l7.78-7.78 2.81-2.81c.8-.78.8-2.07 0-2.86zM5.41 20L4 18.59l7.72-7.72 1.47 1.35L5.41 20z\"/>\n",
              "  </svg>\n",
              "      </button>\n",
              "\n",
              "\n",
              "\n",
              "    <div id=\"df-f96e21a2-cde3-42d6-8e08-241b4ba56853\">\n",
              "      <button class=\"colab-df-quickchart\" onclick=\"quickchart('df-f96e21a2-cde3-42d6-8e08-241b4ba56853')\"\n",
              "              title=\"Suggest charts.\"\n",
              "              style=\"display:none;\">\n",
              "\n",
              "<svg xmlns=\"http://www.w3.org/2000/svg\" height=\"24px\"viewBox=\"0 0 24 24\"\n",
              "     width=\"24px\">\n",
              "    <g>\n",
              "        <path d=\"M19 3H5c-1.1 0-2 .9-2 2v14c0 1.1.9 2 2 2h14c1.1 0 2-.9 2-2V5c0-1.1-.9-2-2-2zM9 17H7v-7h2v7zm4 0h-2V7h2v10zm4 0h-2v-4h2v4z\"/>\n",
              "    </g>\n",
              "</svg>\n",
              "      </button>\n",
              "    </div>\n",
              "\n",
              "<style>\n",
              "  .colab-df-quickchart {\n",
              "    background-color: #E8F0FE;\n",
              "    border: none;\n",
              "    border-radius: 50%;\n",
              "    cursor: pointer;\n",
              "    display: none;\n",
              "    fill: #1967D2;\n",
              "    height: 32px;\n",
              "    padding: 0 0 0 0;\n",
              "    width: 32px;\n",
              "  }\n",
              "\n",
              "  .colab-df-quickchart:hover {\n",
              "    background-color: #E2EBFA;\n",
              "    box-shadow: 0px 1px 2px rgba(60, 64, 67, 0.3), 0px 1px 3px 1px rgba(60, 64, 67, 0.15);\n",
              "    fill: #174EA6;\n",
              "  }\n",
              "\n",
              "  [theme=dark] .colab-df-quickchart {\n",
              "    background-color: #3B4455;\n",
              "    fill: #D2E3FC;\n",
              "  }\n",
              "\n",
              "  [theme=dark] .colab-df-quickchart:hover {\n",
              "    background-color: #434B5C;\n",
              "    box-shadow: 0px 1px 3px 1px rgba(0, 0, 0, 0.15);\n",
              "    filter: drop-shadow(0px 1px 2px rgba(0, 0, 0, 0.3));\n",
              "    fill: #FFFFFF;\n",
              "  }\n",
              "</style>\n",
              "\n",
              "    <script>\n",
              "      async function quickchart(key) {\n",
              "        const containerElement = document.querySelector('#' + key);\n",
              "        const charts = await google.colab.kernel.invokeFunction(\n",
              "            'suggestCharts', [key], {});\n",
              "      }\n",
              "    </script>\n",
              "\n",
              "      <script>\n",
              "\n",
              "function displayQuickchartButton(domScope) {\n",
              "  let quickchartButtonEl =\n",
              "    domScope.querySelector('#df-f96e21a2-cde3-42d6-8e08-241b4ba56853 button.colab-df-quickchart');\n",
              "  quickchartButtonEl.style.display =\n",
              "    google.colab.kernel.accessAllowed ? 'block' : 'none';\n",
              "}\n",
              "\n",
              "        displayQuickchartButton(document);\n",
              "      </script>\n",
              "      <style>\n",
              "    .colab-df-container {\n",
              "      display:flex;\n",
              "      flex-wrap:wrap;\n",
              "      gap: 12px;\n",
              "    }\n",
              "\n",
              "    .colab-df-convert {\n",
              "      background-color: #E8F0FE;\n",
              "      border: none;\n",
              "      border-radius: 50%;\n",
              "      cursor: pointer;\n",
              "      display: none;\n",
              "      fill: #1967D2;\n",
              "      height: 32px;\n",
              "      padding: 0 0 0 0;\n",
              "      width: 32px;\n",
              "    }\n",
              "\n",
              "    .colab-df-convert:hover {\n",
              "      background-color: #E2EBFA;\n",
              "      box-shadow: 0px 1px 2px rgba(60, 64, 67, 0.3), 0px 1px 3px 1px rgba(60, 64, 67, 0.15);\n",
              "      fill: #174EA6;\n",
              "    }\n",
              "\n",
              "    [theme=dark] .colab-df-convert {\n",
              "      background-color: #3B4455;\n",
              "      fill: #D2E3FC;\n",
              "    }\n",
              "\n",
              "    [theme=dark] .colab-df-convert:hover {\n",
              "      background-color: #434B5C;\n",
              "      box-shadow: 0px 1px 3px 1px rgba(0, 0, 0, 0.15);\n",
              "      filter: drop-shadow(0px 1px 2px rgba(0, 0, 0, 0.3));\n",
              "      fill: #FFFFFF;\n",
              "    }\n",
              "  </style>\n",
              "\n",
              "      <script>\n",
              "        const buttonEl =\n",
              "          document.querySelector('#df-bc40ecd2-18d0-41bb-8960-2cc97b6d80ff button.colab-df-convert');\n",
              "        buttonEl.style.display =\n",
              "          google.colab.kernel.accessAllowed ? 'block' : 'none';\n",
              "\n",
              "        async function convertToInteractive(key) {\n",
              "          const element = document.querySelector('#df-bc40ecd2-18d0-41bb-8960-2cc97b6d80ff');\n",
              "          const dataTable =\n",
              "            await google.colab.kernel.invokeFunction('convertToInteractive',\n",
              "                                                     [key], {});\n",
              "          if (!dataTable) return;\n",
              "\n",
              "          const docLinkHtml = 'Like what you see? Visit the ' +\n",
              "            '<a target=\"_blank\" href=https://colab.research.google.com/notebooks/data_table.ipynb>data table notebook</a>'\n",
              "            + ' to learn more about interactive tables.';\n",
              "          element.innerHTML = '';\n",
              "          dataTable['output_type'] = 'display_data';\n",
              "          await google.colab.output.renderOutput(dataTable, element);\n",
              "          const docLink = document.createElement('div');\n",
              "          docLink.innerHTML = docLinkHtml;\n",
              "          element.appendChild(docLink);\n",
              "        }\n",
              "      </script>\n",
              "    </div>\n",
              "  </div>\n"
            ]
          },
          "metadata": {},
          "execution_count": 38
        }
      ],
      "source": [
        "data.head()"
      ]
    },
    {
      "cell_type": "code",
      "execution_count": 39,
      "metadata": {
        "ExecuteTime": {
          "end_time": "2017-04-10T00:04:57.797727Z",
          "start_time": "2017-04-09T20:04:57.771736-04:00"
        },
        "jupyter": {
          "outputs_hidden": false
        },
        "colab": {
          "base_uri": "https://localhost:8080/"
        },
        "id": "FvZbMOx7dY1d",
        "outputId": "b5433d83-2bc4-4f23-a2e3-02cd55c6bc9f"
      },
      "outputs": [
        {
          "output_type": "execute_result",
          "data": {
            "text/plain": [
              "fixed_acidity           float64\n",
              "volatile_acidity        float64\n",
              "citric_acid             float64\n",
              "residual_sugar          float64\n",
              "chlorides               float64\n",
              "free_sulfur_dioxide     float64\n",
              "total_sulfur_dioxide    float64\n",
              "density                 float64\n",
              "pH                      float64\n",
              "sulphates               float64\n",
              "alcohol                 float64\n",
              "quality                   int64\n",
              "color                    object\n",
              "dtype: object"
            ]
          },
          "metadata": {},
          "execution_count": 39
        }
      ],
      "source": [
        "data.dtypes"
      ]
    },
    {
      "cell_type": "markdown",
      "metadata": {
        "id": "3uawRPLudY1d"
      },
      "source": [
        "Convert the color feature to an integer. This is a quick way to do it using Pandas."
      ]
    },
    {
      "cell_type": "code",
      "execution_count": 40,
      "metadata": {
        "ExecuteTime": {
          "end_time": "2017-04-10T00:04:57.821162Z",
          "start_time": "2017-04-09T20:04:57.801357-04:00"
        },
        "colab": {
          "base_uri": "https://localhost:8080/"
        },
        "id": "cuMuLJiYdY1d",
        "outputId": "6e693b81-2c96-4c91-d3dc-140a63ac2f61"
      },
      "outputs": [
        {
          "output_type": "stream",
          "name": "stderr",
          "text": [
            "<ipython-input-40-8c7028e59887>:1: DeprecationWarning: `np.int` is a deprecated alias for the builtin `int`. To silence this warning, use `int` by itself. Doing this will not modify any behavior and is safe. When replacing `np.int`, you may wish to use e.g. `np.int64` or `np.int32` to specify the precision. If you wish to review your current use, check the release note link for additional information.\n",
            "Deprecated in NumPy 1.20; for more details and guidance: https://numpy.org/devdocs/release/1.20.0-notes.html#deprecations\n",
            "  data['color'] = data.color.replace('white',0).replace('red',1).astype(np.int)\n"
          ]
        }
      ],
      "source": [
        "data['color'] = data.color.replace('white',0).replace('red',1).astype(np.int)"
      ]
    },
    {
      "cell_type": "markdown",
      "source": [
        "**data['color'] = data.color.replace('white', 0).replace('red', 1).astype(np.int)**\n",
        "\n",
        "performs transformations on the 'color' column of the DataFrame data. Let's break it down step by step:\n",
        "\n",
        "\n",
        "---\n",
        "\n",
        "\n",
        "**data['color']**\n",
        "\n",
        "selects the 'color' column from the DataFrame data.\n",
        "\n",
        "\n",
        "---\n",
        "\n",
        "\n",
        "**replace('white', 0)**\n",
        "\n",
        "replaces all occurrences of the string 'white' in the 'color' column with the value 0. This is done using the replace() method of pandas Series.\n",
        "\n",
        "\n",
        "---\n",
        "\n",
        "\n",
        "**replace('red', 1)**\n",
        "\n",
        "replaces all occurrences of the string 'red' in the 'color' column (after the previous replacement) with the value 1. This updates the 'color' column further.\n",
        "\n",
        "\n",
        "---\n",
        "\n",
        "\n",
        "**astype(np.int)**\n",
        "\n",
        "converts the data type of the 'color' column to int. This ensures that the 'color' column contains integer values.\n",
        "\n",
        "**In summary, the code replaces specific string values in the 'color' column with corresponding numeric values and converts the data type of the column to int. **\n",
        "\n",
        "This can be useful when transforming categorical data into numerical representation for further analysis or modeling purposes."
      ],
      "metadata": {
        "id": "kjia-X9lpmMA"
      }
    },
    {
      "cell_type": "markdown",
      "metadata": {
        "id": "luggwRxmdY1e"
      },
      "source": [
        "## Split the Data\n",
        "\n",
        "* Use `StratifiedShuffleSplit` to split data into train and test sets that are stratified by wine quality. If possible, preserve the indices of the split for question 5 below.\n",
        "* Check the percent composition of each quality level for both the train and test data sets."
      ]
    },
    {
      "cell_type": "markdown",
      "source": [
        "##StratifiedShuffleSplit performs stratified sampling\n",
        "\n",
        "**To create train and test sets while preserving the class proportions in the target variable.** The sampling process involves the following steps:\n",
        "\n",
        "\n",
        "---\n",
        "\n",
        "\n",
        "---\n",
        "\n",
        "\n",
        "\n",
        "**Determining the class proportions**\n",
        "\n",
        "The class proportions in the target variable are computed to understand the distribution of the different classes. This information is crucial for stratified sampling.\n",
        "\n",
        "\n",
        "---\n",
        "\n",
        "\n",
        "**Shuffling the data**\n",
        "\n",
        "The data is randomly shuffled while keeping the class labels associated with each sample intact. Shuffling ensures that the samples are not ordered in any specific way that could bias the splitting process.\n",
        "\n",
        "\n",
        "---\n",
        "\n",
        "\n",
        "**Splitting into train and test sets**\n",
        "\n",
        "The shuffled data is divided into train and test sets based on the specified test_size parameter or the absolute number of samples if test_size is an integer. The splitting is done in such a way that the class proportions in the target variable are maintained in both the train and test sets.\n",
        "\n",
        "\n",
        "---\n",
        "\n",
        "\n",
        "**Repeating the process**\n",
        "\n",
        "The above steps are repeated for the specified number of splits (n_splits). Each iteration generates a different random split of the data, ensuring that different samples are included in the train and test sets.\n",
        "\n",
        "\n",
        "---\n",
        "\n",
        "\n",
        "---\n",
        "\n",
        "\n",
        "\n",
        "By employing stratified sampling, StratifiedShuffleSplit addresses the issue of imbalanced datasets or datasets with uneven class distributions.\n",
        "\n",
        "It ensures that the resulting train and test sets have similar class proportions as the original dataset, allowing for a more representative evaluation of the model's performance.\n",
        "\n",
        "This stratified sampling approach is particularly useful in scenarios where each class in the target variable has different levels of representation and the goal is to create train and test sets that accurately reflect the underlying class distribution."
      ],
      "metadata": {
        "id": "JP0QhfeHtIzu"
      }
    },
    {
      "cell_type": "code",
      "execution_count": 41,
      "metadata": {
        "ExecuteTime": {
          "end_time": "2017-04-10T00:04:57.827405Z",
          "start_time": "2017-04-09T20:04:57.823619-04:00"
        },
        "id": "ujF3Mc-sdY1e"
      },
      "outputs": [],
      "source": [
        "# All data columns except for color\n",
        "feature_cols = [x for x in data.columns if x not in 'color']"
      ]
    },
    {
      "cell_type": "markdown",
      "source": [
        "The line\n",
        "\n",
        "**feature_cols = [x for x in data.columns if x not in 'color']**\n",
        "\n",
        "**creates a list of column names from the DataFrame data excluding the column named 'color'.**\n",
        "\n",
        "Let's break down the line and understand how it works:\n",
        "\n",
        "**data.columns**\n",
        "retrieves the column names of the DataFrame data.\n",
        "\n",
        "It returns a pandas Index object containing the column names.\n",
        "\n",
        "The list comprehension\n",
        "\n",
        "**[x for x in data.columns if x not in 'color']**\n",
        "\n",
        "iterates over each element (x) in data.columns and checks if it is not equal to the string 'color'.\n",
        "\n",
        "**If the condition is true, the element is included in the resulting list (feature_cols)**.\n",
        "\n",
        "**In summary, the line of code creates a list (feature_cols) containing all the column names from the DataFrame data except for the column named 'color'.**\n",
        "\n",
        "It allows you to select a subset of columns for further processing or analysis by excluding the specified column."
      ],
      "metadata": {
        "id": "NYuEC9HOogGm"
      }
    },
    {
      "cell_type": "code",
      "execution_count": 42,
      "metadata": {
        "ExecuteTime": {
          "end_time": "2017-04-10T00:04:58.162153Z",
          "start_time": "2017-04-09T20:04:57.830037-04:00"
        },
        "id": "SGjMli_ZdY1e"
      },
      "outputs": [],
      "source": [
        "from sklearn.model_selection import StratifiedShuffleSplit\n",
        "\n",
        "# Split the data into two parts with 1000 points in the test data\n",
        "# This creates a generator\n",
        "strat_shuff_split = StratifiedShuffleSplit(n_splits=1, test_size=1000, random_state=42)\n",
        "\n",
        "# Get the index values from the generator\n",
        "train_idx, test_idx = next(strat_shuff_split.split(data[feature_cols], data['color']))\n",
        "\n",
        "# Create the data sets\n",
        "X_train = data.loc[train_idx, feature_cols]\n",
        "y_train = data.loc[train_idx, 'color']\n",
        "\n",
        "X_test = data.loc[test_idx, feature_cols]\n",
        "y_test = data.loc[test_idx, 'color']"
      ]
    },
    {
      "cell_type": "markdown",
      "source": [
        "###Split the data into two parts with 1000 points in the test data\n",
        "### This creates a generator\n",
        "\n",
        "The line of code\n",
        "\n",
        "**strat_shuff_split = StratifiedShuffleSplit(n_splits=1, test_size=1000, random_state=42)**\n",
        "\n",
        "creates an instance of the StratifiedShuffleSplit class with the following parameters:\n",
        "\n",
        "\n",
        "---\n",
        "\n",
        "\n",
        "**n_splits**\n",
        "The number of splits to generate. In this case, it is set to 1, meaning that only one split will be created.\n",
        "\n",
        "\n",
        "---\n",
        "\n",
        "\n",
        "**test_size**\n",
        "\n",
        "The size of the test set. It can be specified as an absolute number or as a fraction of the total dataset size. In this case, it is set to 1000, indicating that the test set will contain 1000 samples.\n",
        "\n",
        "\n",
        "---\n",
        "\n",
        "\n",
        "\n",
        "**random_state**\n",
        "\n",
        "The seed for the random number generator. It ensures reproducibility of the splits. By setting it to 42, the same splits will be generated if the code is run multiple times with the same parameters'''\n",
        "\n",
        "\n",
        "\n",
        "---\n",
        "\n",
        "\n",
        "---\n",
        "### Get the index values from the generator\n",
        "\n",
        "In the line of code\n",
        "\n",
        "**train_idx, test_idx = next(strat_shuff_split.split(data[feature_cols], data['color'])),**\n",
        "\n",
        "the split() method of the strat_shuff_split instance is called to generate the train and test indices for stratified shuffling of the data.Let's break down this line and understand what it does:\n",
        "\n",
        "\n",
        "\n",
        "---\n",
        "\n",
        "\n",
        "\n",
        "**data[feature_cols]**\n",
        "\n",
        "selects the subset of columns from the DataFrame data that are specified by feature_cols. These columns are the features that will be used for training and testing.\n",
        "\n",
        "\n",
        "\n",
        "---\n",
        "\n",
        "\n",
        "\n",
        "**data['color']**\n",
        "\n",
        "selects the target variable column ('color') from the DataFrame data. This is the variable that you want to predict or classify.\n",
        "\n",
        "\n",
        "\n",
        "---\n",
        "\n",
        "\n",
        "\n",
        "**strat_shuff_split.split(data[feature_cols], data['color'])**\n",
        "\n",
        "calls the split() method of the strat_shuff_split instance to generate the stratified train and test indices based on the features and target variable provided.\n",
        "\n",
        "\n",
        "\n",
        "---\n",
        "\n",
        "\n",
        "\n",
        "**next()**\n",
        "\n",
        "is used to retrieve the next item from the iterator returned by split(). Since n_splits is set to 1 in your strat_shuff_split instance, there is only one split available.\n",
        "\n",
        "The returned train and test indices are assigned to train_idx and test_idx, respectively.\n",
        "\n",
        "**These indices represent the positions of the data points that belong to the train and test sets.**\n",
        "\n",
        "After executing this line of code, you will have the train and test indices ready for further use in your data analysis or modeling pipeline.\n",
        "\n",
        "\n",
        "\n",
        "---\n",
        "\n",
        "\n",
        "\n",
        "---\n",
        "\n",
        "\n",
        "---\n",
        "### Create the data sets\n",
        "\n",
        "**X_train = data.loc[train_idx, feature_cols]**\n",
        "\n",
        "selects the rows specified by the train_idx from the DataFrame data using loc[] and retrieves the columns specified by feature_cols. This assigns the selected feature data for the training set to the variable X_train.\n",
        "\n",
        "\n",
        "---\n",
        "\n",
        "\n",
        "**y_train = data.loc[train_idx, 'color']**\n",
        "\n",
        "selects the rows specified by the train_idx from the DataFrame data using loc[] and retrieves the target variable column 'color'. This assigns the selected target variable data for the training set to the variable y_train.\n",
        "\n",
        "\n",
        "---\n",
        "\n",
        "\n",
        "**X_test = data.loc[test_idx, feature_cols]**\n",
        "\n",
        "selects the rows specified by the test_idx from the DataFrame data using loc[] and retrieves the columns specified by feature_cols. This assigns the selected feature data for the test set to the variable X_test.\n",
        "\n",
        "\n",
        "\n",
        "---\n",
        "\n",
        "\n",
        "\n",
        "**y_test = data.loc[test_idx, 'color']**\n",
        "\n",
        "selects the rows specified by the test_idx from the DataFrame data using loc[] and retrieves the target variable column 'color'. This assigns the selected target variable data for the test set to the variable y_test.\n",
        "\n",
        "**After executing this code, you will have the feature and target variable data split into training and test sets (X_train, y_train, X_test, y_test). These sets are ready to be used for model training and evaluation, allowing you to train a model on the training data (X_train, y_train) and assess its performance on the test data (X_test, y_test)**\n",
        "\n",
        "\n"
      ],
      "metadata": {
        "id": "utGkHTtcuCNT"
      }
    },
    {
      "cell_type": "markdown",
      "metadata": {
        "id": "PerC9FnndY1e"
      },
      "source": [
        "Now check the percent composition of each quality level in the train and test data sets. The data set is mostly white wine, as can be seen below."
      ]
    },
    {
      "cell_type": "code",
      "execution_count": 43,
      "metadata": {
        "ExecuteTime": {
          "end_time": "2017-04-10T00:04:58.177504Z",
          "start_time": "2017-04-09T20:04:58.164339-04:00"
        },
        "jupyter": {
          "outputs_hidden": false
        },
        "colab": {
          "base_uri": "https://localhost:8080/"
        },
        "id": "awnR93TtdY1e",
        "outputId": "0f37085c-5b39-4240-a087-f0a330cd5b02"
      },
      "outputs": [
        {
          "output_type": "execute_result",
          "data": {
            "text/plain": [
              "0    0.753866\n",
              "1    0.246134\n",
              "Name: color, dtype: float64"
            ]
          },
          "metadata": {},
          "execution_count": 43
        }
      ],
      "source": [
        "y_train.value_counts(normalize=True).sort_index()"
      ]
    },
    {
      "cell_type": "markdown",
      "source": [
        "The code\n",
        "\n",
        "**y_train.value_counts(normalize=True).sort_index()**\n",
        "\n",
        "computes the normalized value counts of each unique value in the y_train variable and sorts them by the index (in ascending order).\n",
        "Let's break down the code and understand its purpose:\n",
        "\n",
        "\n",
        "\n",
        "---\n",
        "\n",
        "\n",
        "\n",
        "**y_train.value_counts()**\n",
        "\n",
        "counts the number of occurrences of each unique value in the y_train variable. It returns a Series where the unique values are the index and the corresponding counts are the values.\n",
        "\n",
        "\n",
        "---\n",
        "\n",
        "\n",
        "**normalize=True**\n",
        "\n",
        "is an argument passed to value_counts() that normalizes the counts by dividing them by the total number of samples. This provides the proportions or relative frequencies of each unique value.\n",
        "\n",
        "\n",
        "---\n",
        "\n",
        "\n",
        "**sort_index()**\n",
        "\n",
        "sorts the resulting Series by the index (unique values in y_train) in ascending order.\n",
        "\n",
        "**The output of this code will be a Series where the unique values in y_train are the index, and the values represent the normalized proportions or relative frequencies of each unique value. The Series will be sorted by the index in ascending order.**\n",
        "\n",
        "This code is useful to get insights into the distribution or class proportions of the target variable in the training set. It allows you to understand the relative frequencies of different classes, which can be helpful when dealing with imbalanced datasets or assessing the representativeness of the training set"
      ],
      "metadata": {
        "id": "Mg1e8XE30PNi"
      }
    },
    {
      "cell_type": "code",
      "execution_count": 44,
      "metadata": {
        "ExecuteTime": {
          "end_time": "2017-04-10T00:04:58.188717Z",
          "start_time": "2017-04-09T20:04:58.180142-04:00"
        },
        "jupyter": {
          "outputs_hidden": false
        },
        "id": "tYKF3zzadY1f",
        "outputId": "708f49c6-e723-41ce-f109-37e0c30050c8",
        "colab": {
          "base_uri": "https://localhost:8080/"
        }
      },
      "outputs": [
        {
          "output_type": "execute_result",
          "data": {
            "text/plain": [
              "0    0.754\n",
              "1    0.246\n",
              "Name: color, dtype: float64"
            ]
          },
          "metadata": {},
          "execution_count": 44
        }
      ],
      "source": [
        "y_test.value_counts(normalize=True).sort_index()"
      ]
    },
    {
      "cell_type": "markdown",
      "metadata": {
        "id": "gtGPnI26dY1f"
      },
      "source": [
        "## Fit the decision Tree classifier\n",
        "\n",
        "* Fit a decision tree classifier with no set limits on maximum depth, features, or leaves.\n",
        "* Determine how many nodes are present and what the depth of this (very large) tree is.\n",
        "* Using this tree, measure the prediction error in the train and test data sets. What do you think is going on here based on the differences in prediction error?"
      ]
    },
    {
      "cell_type": "code",
      "execution_count": 45,
      "metadata": {
        "ExecuteTime": {
          "end_time": "2017-04-10T00:04:58.276188Z",
          "start_time": "2017-04-09T20:04:58.191882-04:00"
        },
        "id": "j8oeyTlEdY1f"
      },
      "outputs": [],
      "source": [
        "from sklearn.tree import DecisionTreeClassifier\n",
        "\n",
        "dt = DecisionTreeClassifier(random_state=42)\n",
        "dt = dt.fit(X_train, y_train)"
      ]
    },
    {
      "cell_type": "markdown",
      "metadata": {
        "id": "PxMU1IW2dY1f"
      },
      "source": [
        "The number of nodes and the maximum actual depth."
      ]
    },
    {
      "cell_type": "code",
      "execution_count": 46,
      "metadata": {
        "ExecuteTime": {
          "end_time": "2017-04-10T00:04:58.288400Z",
          "start_time": "2017-04-09T20:04:58.278395-04:00"
        },
        "jupyter": {
          "outputs_hidden": false
        },
        "colab": {
          "base_uri": "https://localhost:8080/"
        },
        "id": "HcpnDDILdY1f",
        "outputId": "b6c3ae49-cde3-4333-8eb7-14d47d2fae71"
      },
      "outputs": [
        {
          "output_type": "execute_result",
          "data": {
            "text/plain": [
              "(171, 22)"
            ]
          },
          "metadata": {},
          "execution_count": 46
        }
      ],
      "source": [
        "dt.tree_.node_count, dt.tree_.max_depth"
      ]
    },
    {
      "cell_type": "markdown",
      "source": [
        "##Scikit-learn Decision Trees depth & node count\n",
        "\n",
        "In scikit-learn's decision tree implementation, you can access the number of nodes in a decision tree and its maximum depth using the attributes node_count and max_depth of the decision tree object.\n",
        "\n",
        "Assuming dt is your decision tree object, you can retrieve these values as follows:\n",
        "\n",
        "\n",
        "### Number of nodes in the decision tree\n",
        "node_count = dt.tree_.node_count\n",
        "print(\"Number of nodes:\", node_count)\n",
        "\n",
        "### Maximum depth of the decision tree\n",
        "max_depth = dt.tree_.max_depth\n",
        "print(\"Maximum depth:\", max_depth)\n",
        "Here's a breakdown of what these attributes represent:\n",
        "\n",
        "###node_count\n",
        "This attribute gives the total number of nodes in the decision tree, including both internal nodes and leaf nodes. Each node represents a split or decision point in the tree.\n",
        "\n",
        "###max_depth\n",
        "This attribute provides the maximum depth of the decision tree, which corresponds to the longest path from the root node to any leaf node. The depth of the tree indicates the number of splits or decisions required to reach a leaf node.\n",
        "\n",
        "\n",
        "---\n",
        "\n",
        "\n",
        "\n",
        "---\n",
        "\n",
        "\n",
        "By accessing these attributes, you can gain insights into the structure and complexity of your decision tree model. The number of nodes provides an understanding of the overall size of the tree, while the maximum depth gives an indication of how deep the tree can go in terms of decision levels. These characteristics can help in assessing the interpretability, complexity, and potential overfitting of the decision tree model."
      ],
      "metadata": {
        "id": "vaoPg6LzuTC8"
      }
    },
    {
      "cell_type": "markdown",
      "metadata": {
        "id": "TOJOaoCWdY1f"
      },
      "source": [
        "A function to return error metrics."
      ]
    },
    {
      "cell_type": "code",
      "execution_count": 47,
      "metadata": {
        "ExecuteTime": {
          "end_time": "2017-04-10T00:04:58.300905Z",
          "start_time": "2017-04-09T20:04:58.291784-04:00"
        },
        "id": "i7VTzT0ndY1f"
      },
      "outputs": [],
      "source": [
        "from sklearn.metrics import accuracy_score, precision_score, recall_score, f1_score\n",
        "\n",
        "def measure_error(y_true, y_pred, label):\n",
        "    return pd.Series({'accuracy':accuracy_score(y_true, y_pred),\n",
        "                      'precision': precision_score(y_true, y_pred),\n",
        "                      'recall': recall_score(y_true, y_pred),\n",
        "                      'f1': f1_score(y_true, y_pred)},\n",
        "                      name=label)"
      ]
    },
    {
      "cell_type": "markdown",
      "metadata": {
        "id": "upeIuKpMdY1g"
      },
      "source": [
        "The decision tree predicts a little better on the training data than the test data, which is consistent with (mild)  overfitting. Also notice the perfect recall score for the training data. In many instances, this prediction difference is even greater than that seen here."
      ]
    },
    {
      "cell_type": "code",
      "execution_count": 48,
      "metadata": {
        "ExecuteTime": {
          "end_time": "2017-04-10T00:04:58.347704Z",
          "start_time": "2017-04-09T20:04:58.304211-04:00"
        },
        "jupyter": {
          "outputs_hidden": false
        },
        "colab": {
          "base_uri": "https://localhost:8080/",
          "height": 174
        },
        "id": "_x1Kywb-dY1g",
        "outputId": "bec20b90-8b52-4fb6-bf09-535bf556e2f9"
      },
      "outputs": [
        {
          "output_type": "execute_result",
          "data": {
            "text/plain": [
              "              train      test\n",
              "accuracy   0.999818  0.984000\n",
              "precision  0.999261  0.963710\n",
              "recall     1.000000  0.971545\n",
              "f1         0.999631  0.967611"
            ],
            "text/html": [
              "\n",
              "\n",
              "  <div id=\"df-3ac836ad-e1b2-4b22-9d00-7b61a5da8ccf\">\n",
              "    <div class=\"colab-df-container\">\n",
              "      <div>\n",
              "<style scoped>\n",
              "    .dataframe tbody tr th:only-of-type {\n",
              "        vertical-align: middle;\n",
              "    }\n",
              "\n",
              "    .dataframe tbody tr th {\n",
              "        vertical-align: top;\n",
              "    }\n",
              "\n",
              "    .dataframe thead th {\n",
              "        text-align: right;\n",
              "    }\n",
              "</style>\n",
              "<table border=\"1\" class=\"dataframe\">\n",
              "  <thead>\n",
              "    <tr style=\"text-align: right;\">\n",
              "      <th></th>\n",
              "      <th>train</th>\n",
              "      <th>test</th>\n",
              "    </tr>\n",
              "  </thead>\n",
              "  <tbody>\n",
              "    <tr>\n",
              "      <th>accuracy</th>\n",
              "      <td>0.999818</td>\n",
              "      <td>0.984000</td>\n",
              "    </tr>\n",
              "    <tr>\n",
              "      <th>precision</th>\n",
              "      <td>0.999261</td>\n",
              "      <td>0.963710</td>\n",
              "    </tr>\n",
              "    <tr>\n",
              "      <th>recall</th>\n",
              "      <td>1.000000</td>\n",
              "      <td>0.971545</td>\n",
              "    </tr>\n",
              "    <tr>\n",
              "      <th>f1</th>\n",
              "      <td>0.999631</td>\n",
              "      <td>0.967611</td>\n",
              "    </tr>\n",
              "  </tbody>\n",
              "</table>\n",
              "</div>\n",
              "      <button class=\"colab-df-convert\" onclick=\"convertToInteractive('df-3ac836ad-e1b2-4b22-9d00-7b61a5da8ccf')\"\n",
              "              title=\"Convert this dataframe to an interactive table.\"\n",
              "              style=\"display:none;\">\n",
              "\n",
              "  <svg xmlns=\"http://www.w3.org/2000/svg\" height=\"24px\"viewBox=\"0 0 24 24\"\n",
              "       width=\"24px\">\n",
              "    <path d=\"M0 0h24v24H0V0z\" fill=\"none\"/>\n",
              "    <path d=\"M18.56 5.44l.94 2.06.94-2.06 2.06-.94-2.06-.94-.94-2.06-.94 2.06-2.06.94zm-11 1L8.5 8.5l.94-2.06 2.06-.94-2.06-.94L8.5 2.5l-.94 2.06-2.06.94zm10 10l.94 2.06.94-2.06 2.06-.94-2.06-.94-.94-2.06-.94 2.06-2.06.94z\"/><path d=\"M17.41 7.96l-1.37-1.37c-.4-.4-.92-.59-1.43-.59-.52 0-1.04.2-1.43.59L10.3 9.45l-7.72 7.72c-.78.78-.78 2.05 0 2.83L4 21.41c.39.39.9.59 1.41.59.51 0 1.02-.2 1.41-.59l7.78-7.78 2.81-2.81c.8-.78.8-2.07 0-2.86zM5.41 20L4 18.59l7.72-7.72 1.47 1.35L5.41 20z\"/>\n",
              "  </svg>\n",
              "      </button>\n",
              "\n",
              "\n",
              "\n",
              "    <div id=\"df-4817bf42-034a-4349-a1e7-66df7cbff2ee\">\n",
              "      <button class=\"colab-df-quickchart\" onclick=\"quickchart('df-4817bf42-034a-4349-a1e7-66df7cbff2ee')\"\n",
              "              title=\"Suggest charts.\"\n",
              "              style=\"display:none;\">\n",
              "\n",
              "<svg xmlns=\"http://www.w3.org/2000/svg\" height=\"24px\"viewBox=\"0 0 24 24\"\n",
              "     width=\"24px\">\n",
              "    <g>\n",
              "        <path d=\"M19 3H5c-1.1 0-2 .9-2 2v14c0 1.1.9 2 2 2h14c1.1 0 2-.9 2-2V5c0-1.1-.9-2-2-2zM9 17H7v-7h2v7zm4 0h-2V7h2v10zm4 0h-2v-4h2v4z\"/>\n",
              "    </g>\n",
              "</svg>\n",
              "      </button>\n",
              "    </div>\n",
              "\n",
              "<style>\n",
              "  .colab-df-quickchart {\n",
              "    background-color: #E8F0FE;\n",
              "    border: none;\n",
              "    border-radius: 50%;\n",
              "    cursor: pointer;\n",
              "    display: none;\n",
              "    fill: #1967D2;\n",
              "    height: 32px;\n",
              "    padding: 0 0 0 0;\n",
              "    width: 32px;\n",
              "  }\n",
              "\n",
              "  .colab-df-quickchart:hover {\n",
              "    background-color: #E2EBFA;\n",
              "    box-shadow: 0px 1px 2px rgba(60, 64, 67, 0.3), 0px 1px 3px 1px rgba(60, 64, 67, 0.15);\n",
              "    fill: #174EA6;\n",
              "  }\n",
              "\n",
              "  [theme=dark] .colab-df-quickchart {\n",
              "    background-color: #3B4455;\n",
              "    fill: #D2E3FC;\n",
              "  }\n",
              "\n",
              "  [theme=dark] .colab-df-quickchart:hover {\n",
              "    background-color: #434B5C;\n",
              "    box-shadow: 0px 1px 3px 1px rgba(0, 0, 0, 0.15);\n",
              "    filter: drop-shadow(0px 1px 2px rgba(0, 0, 0, 0.3));\n",
              "    fill: #FFFFFF;\n",
              "  }\n",
              "</style>\n",
              "\n",
              "    <script>\n",
              "      async function quickchart(key) {\n",
              "        const containerElement = document.querySelector('#' + key);\n",
              "        const charts = await google.colab.kernel.invokeFunction(\n",
              "            'suggestCharts', [key], {});\n",
              "      }\n",
              "    </script>\n",
              "\n",
              "      <script>\n",
              "\n",
              "function displayQuickchartButton(domScope) {\n",
              "  let quickchartButtonEl =\n",
              "    domScope.querySelector('#df-4817bf42-034a-4349-a1e7-66df7cbff2ee button.colab-df-quickchart');\n",
              "  quickchartButtonEl.style.display =\n",
              "    google.colab.kernel.accessAllowed ? 'block' : 'none';\n",
              "}\n",
              "\n",
              "        displayQuickchartButton(document);\n",
              "      </script>\n",
              "      <style>\n",
              "    .colab-df-container {\n",
              "      display:flex;\n",
              "      flex-wrap:wrap;\n",
              "      gap: 12px;\n",
              "    }\n",
              "\n",
              "    .colab-df-convert {\n",
              "      background-color: #E8F0FE;\n",
              "      border: none;\n",
              "      border-radius: 50%;\n",
              "      cursor: pointer;\n",
              "      display: none;\n",
              "      fill: #1967D2;\n",
              "      height: 32px;\n",
              "      padding: 0 0 0 0;\n",
              "      width: 32px;\n",
              "    }\n",
              "\n",
              "    .colab-df-convert:hover {\n",
              "      background-color: #E2EBFA;\n",
              "      box-shadow: 0px 1px 2px rgba(60, 64, 67, 0.3), 0px 1px 3px 1px rgba(60, 64, 67, 0.15);\n",
              "      fill: #174EA6;\n",
              "    }\n",
              "\n",
              "    [theme=dark] .colab-df-convert {\n",
              "      background-color: #3B4455;\n",
              "      fill: #D2E3FC;\n",
              "    }\n",
              "\n",
              "    [theme=dark] .colab-df-convert:hover {\n",
              "      background-color: #434B5C;\n",
              "      box-shadow: 0px 1px 3px 1px rgba(0, 0, 0, 0.15);\n",
              "      filter: drop-shadow(0px 1px 2px rgba(0, 0, 0, 0.3));\n",
              "      fill: #FFFFFF;\n",
              "    }\n",
              "  </style>\n",
              "\n",
              "      <script>\n",
              "        const buttonEl =\n",
              "          document.querySelector('#df-3ac836ad-e1b2-4b22-9d00-7b61a5da8ccf button.colab-df-convert');\n",
              "        buttonEl.style.display =\n",
              "          google.colab.kernel.accessAllowed ? 'block' : 'none';\n",
              "\n",
              "        async function convertToInteractive(key) {\n",
              "          const element = document.querySelector('#df-3ac836ad-e1b2-4b22-9d00-7b61a5da8ccf');\n",
              "          const dataTable =\n",
              "            await google.colab.kernel.invokeFunction('convertToInteractive',\n",
              "                                                     [key], {});\n",
              "          if (!dataTable) return;\n",
              "\n",
              "          const docLinkHtml = 'Like what you see? Visit the ' +\n",
              "            '<a target=\"_blank\" href=https://colab.research.google.com/notebooks/data_table.ipynb>data table notebook</a>'\n",
              "            + ' to learn more about interactive tables.';\n",
              "          element.innerHTML = '';\n",
              "          dataTable['output_type'] = 'display_data';\n",
              "          await google.colab.output.renderOutput(dataTable, element);\n",
              "          const docLink = document.createElement('div');\n",
              "          docLink.innerHTML = docLinkHtml;\n",
              "          element.appendChild(docLink);\n",
              "        }\n",
              "      </script>\n",
              "    </div>\n",
              "  </div>\n"
            ]
          },
          "metadata": {},
          "execution_count": 48
        }
      ],
      "source": [
        "# The error on the training and test data sets\n",
        "y_train_pred = dt.predict(X_train)\n",
        "y_test_pred = dt.predict(X_test)\n",
        "\n",
        "train_test_full_error = pd.concat([measure_error(y_train, y_train_pred, 'train'),\n",
        "                              measure_error(y_test, y_test_pred, 'test')],\n",
        "                              axis=1)\n",
        "\n",
        "train_test_full_error"
      ]
    },
    {
      "cell_type": "markdown",
      "source": [
        "### Measure the error on the training and test data sets\n",
        "\n",
        "**The code y calculates the prediction errors for both the training and test sets, and then concatenates the results into a DataFrame called train_test_full_error.** Let's break down the code to understand each step:\n",
        "\n",
        "\n",
        "---\n",
        "\n",
        "\n",
        "**y_train_pred = dt.predict(X_train)**\n",
        "\n",
        " uses the trained decision tree model dt to make predictions on the training set X_train, and assigns the predicted values to the variable y_train_pred.\n",
        "\n",
        "\n",
        "---\n",
        "\n",
        "\n",
        "**y_test_pred = dt.predict(X_test)**\n",
        "\n",
        " uses the same trained decision tree model dt to make predictions on the test set X_test, and assigns the predicted values to the variable y_test_pred.\n",
        "\n",
        "\n",
        "---\n",
        "\n",
        "\n",
        "**measure_error(y_train, y_train_pred, 'train')**\n",
        "\n",
        "and\n",
        "\n",
        "**measure_error(y_test, y_test_pred, 'test')**\n",
        "\n",
        "are functions (not shown in the code snippet) that calculate some error or evaluation metric between the actual target values (y_train and y_test) and the corresponding predicted values (y_train_pred and y_test_pred).\n",
        "\n",
        "These functions likely compute metrics such as accuracy, precision, recall, or mean squared error to assess the model's performance.\n",
        "\n",
        "\n",
        "---\n",
        "\n",
        "\n",
        "**pd.concat([measure_error(y_train, y_train_pred, 'train'), measure_error(y_test, y_test_pred, 'test')], axis=1)**\n",
        "\n",
        "concatenates the error measurements for the training set and test set horizontally (along the columns) using pd.concat(). The resulting DataFrame is assigned to train_test_full_error.\n",
        "\n",
        "\n",
        "---\n",
        "\n",
        "\n",
        "The resulting train_test_full_error DataFrame will have the error metrics for the training set and test set side by side, with one row per error metric.\n",
        "\n",
        "This allows you to compare the performance of the model on the training and test sets in a tabular format. The exact structure and content of the train_test_full_error DataFrame will depend on the specific implementation of the measure_error() function."
      ],
      "metadata": {
        "id": "oyGAoui73EG5"
      }
    },
    {
      "cell_type": "markdown",
      "metadata": {
        "id": "4QKtgvwNdY1g"
      },
      "source": [
        "## Perform Grid Search\n",
        "\n",
        "* Using grid search with cross validationgrid search with cross validation,, find a decision tree that performs well on the test data set. Use a different variable name for this decision tree model than in question 3 so that both can be used in question 6.\n",
        "* Determine the number of nodes and the depth of this tree.\n",
        "* Measure the errors on the training and test sets as before and compare them to those from the tree in question 3."
      ]
    },
    {
      "cell_type": "markdown",
      "source": [
        "**GridSearchCV is imported from sklearn.model_selection**.\n",
        "\n",
        "It is a class that performs an exhaustive search over a specified hyperparameter grid.\n",
        "\n",
        "\n",
        "---\n",
        "\n",
        "\n",
        "The param_grid dictionary defines the hyperparameters and their corresponding values to be explored.\n",
        "\n",
        "In this case:\n",
        "\n",
        "**max_depth is set to a range of values from 1 to the maximum depth of the given decision tree (dt.tree_.max_depth) with a step size of 2. max_features is set to a range from 1 to the total number of features (len(dt.feature_importances_)).**\n",
        "\n",
        "\n",
        "---\n",
        "\n",
        "\n",
        "**GR is initialized as a GridSearchCV object**\n",
        "\n",
        "The base estimator is set as DecisionTreeClassifier with random_state=42, which ensures reproducibility.\n",
        "\n",
        "\n",
        "---\n",
        "\n",
        "\n",
        "**scoring='accuracy'**\n",
        "\n",
        "specifies the scoring metric to evaluate the performance of the models during the grid search. In this case, it uses accuracy as the evaluation metric.\n",
        "\n",
        "---\n",
        "\n",
        "\n",
        "\n",
        "\n",
        "\n",
        "**n_jobs=-1**\n",
        "\n",
        "allows parallel computation using all available processors.\n",
        "\n",
        "\n",
        "---\n",
        "\n",
        "\n",
        "The\n",
        "\n",
        "**GridSearchCV object GR**\n",
        "\n",
        "is fitted to the training data (X_train and y_train) using the .fit() method.\n",
        "\n",
        "After the GridSearchCV fitting process is completed, you can access various attributes of GR, such as best_params_ to obtain the best hyperparameters found during the search and best_score_ to obtain the corresponding best score achieved.\n"
      ],
      "metadata": {
        "id": "96vNUq6Tvjyo"
      }
    },
    {
      "cell_type": "code",
      "execution_count": 49,
      "metadata": {
        "ExecuteTime": {
          "end_time": "2017-04-10T00:05:00.723922Z",
          "start_time": "2017-04-09T20:04:58.350434-04:00"
        },
        "id": "nyRx6PySdY1h"
      },
      "outputs": [],
      "source": [
        "from sklearn.model_selection import GridSearchCV\n",
        "\n",
        "param_grid = {'max_depth':range(1, dt.tree_.max_depth+1, 2),\n",
        "              'max_features': range(1, len(dt.feature_importances_)+1)}\n",
        "\n",
        "GR = GridSearchCV(DecisionTreeClassifier(random_state=42),\n",
        "                  param_grid=param_grid,\n",
        "                  scoring='accuracy',\n",
        "                  n_jobs=-1)\n",
        "\n",
        "GR = GR.fit(X_train, y_train)"
      ]
    },
    {
      "cell_type": "markdown",
      "source": [
        "### Grid Search with Cross-validation technique\n",
        "\n",
        "**Grid search with cross-validation is a technique used to find the optimal hyperparameters for a machine learning model by exhaustively searching through a specified set of hyperparameter values. Cross-validation is used to evaluate the performance of the model with each set of hyperparameters**.\n",
        "\n",
        "Here's an overview of how to perform grid search with cross-validation:\n",
        "\n",
        "\n",
        "\n",
        "---\n",
        "\n",
        "\n",
        "\n",
        "**Define the model**\n",
        "\n",
        "Choose the machine learning model you want to use and instantiate it with default hyperparameter values or initial values of your choice.\n",
        "\n",
        "\n",
        "---\n",
        "\n",
        "\n",
        "**Define the parameter grid**\n",
        "\n",
        "Specify the hyperparameters you want to tune and the corresponding values you want to search over. This can be done using a dictionary or a list of dictionaries, where each dictionary contains the hyperparameter name as the key and a list of possible values as the value.\n",
        "\n",
        "\n",
        "---\n",
        "\n",
        "\n",
        "**Create the grid search object**\n",
        "\n",
        "Use the GridSearchCV class from scikit-learn to create a grid search object.\n",
        "\n",
        "Pass the model, parameter grid, and the desired number of cross-validation folds (cv) as parameters to the GridSearchCV constructor.\n",
        "\n",
        "\n",
        "---\n",
        "\n",
        "\n",
        "**Fit the grid search object**\n",
        "\n",
        "Call the fit() method of the grid search object, passing in the training data (X_train, y_train) to perform the grid search with cross-validation.\n",
        "\n",
        "**This will exhaustively search through all the hyperparameter combinations and evaluate the model's performance using cross-validation.**\n",
        "\n",
        "\n",
        "---\n",
        "\n",
        "\n",
        "**Access the results**\n",
        "\n",
        "After the grid search is complete, you can access various attributes of the grid search object to analyze the results. This includes attributes such as best_params_, best_score_, and cv_results_, which provide information about the best hyperparameters, the corresponding best score, and detailed results of each hyperparameter combination's performance during cross-validation.\n",
        "\n",
        "\n",
        "\n",
        "---\n",
        "\n",
        "\n",
        "\n",
        "---\n",
        "\n",
        "\n",
        "---\n",
        "\n",
        "\n"
      ],
      "metadata": {
        "id": "_6bXZthJ5nKf"
      }
    },
    {
      "cell_type": "markdown",
      "source": [
        "**GridSearchCV is imported from sklearn.model_selection.**\n",
        "\n",
        "It is a class that performs an exhaustive search over a specified hyperparameter grid.\n",
        "\n",
        "\n",
        "---\n",
        "\n",
        "\n",
        "\n",
        "---\n",
        "\n",
        "\n",
        "**The param_grid dictionary**\n",
        "\n",
        "defines the hyperparameters and their corresponding values to be explored.\n",
        "\n",
        "\n",
        "---\n",
        "\n",
        "\n",
        "In this case,\n",
        "\n",
        "**max_depth is set to a range of values from 1 to the maximum depth of the given decision tree (dt.tree_.max_depth) with a step size of 2.**\n",
        "\n",
        "**max_features is set to a range from 1 to the total number of features (len(dt.feature_importances_)).**\n",
        "\n",
        "**range(1, dt.tree_.max_depth+1, 2)**\n",
        "\n",
        "This part creates a range of values for max_depth starting from 1 and incrementing by 2 until dt.tree_.max_depth+1.\n",
        "\n",
        "To understand this better, let's assume that\n",
        "dt.tree_.max_depth is equal to 5 (the maximum depth of the decision tree).\n",
        "\n",
        "The range(1, dt.tree_.max_depth+1, 2) expression will generate the following sequence: [1, 3, 5].\n",
        "These values represent the potential values for the max_depth hyperparameter that GridSearchCV will explore during the grid search process.\n",
        "\n",
        "\n",
        "The max_depth hyperparameter determines the maximum depth of the decision tree, limiting the number of splits or decision levels.\n",
        "\n",
        "\n",
        "By using this parameter grid, GridSearchCV will fit and evaluate multiple decision tree models with different values of max_depth (in this case, 1, 3, and 5).\n",
        "\n",
        "It will determine the best value of max_depth based on the specified scoring metric (accuracy in this case) and the performance on the provided training data.\n",
        "\n",
        "\n",
        "---\n",
        "\n",
        "\n",
        "**GR is initialized as a GridSearchCV object.**\n",
        "\n",
        "\n",
        "---\n",
        "\n",
        "\n",
        "The base estimator is set as DecisionTreeClassifier with random_state=42, which ensures reproducibility.\n",
        "\n",
        "\n",
        "---\n",
        "\n",
        "\n",
        "**scoring='accuracy'**\n",
        "\n",
        "specifies the scoring metric to evaluate the performance of the models during the grid search. In this case, it uses accuracy as the evaluation metric.\n",
        "\n",
        "\n",
        "---\n",
        "\n",
        "\n",
        "**n_jobs=-1**`\n",
        "\n",
        "allows parallel computation using all available processors.\n",
        "\n",
        "\n",
        "---\n",
        "\n",
        "\n",
        "The GridSearchCV object GR is fitted to the training data (X_train and y_train) using the .fit() method.\n",
        "\n",
        "\n",
        "---\n",
        "\n",
        "\n",
        "After the GridSearchCV fitting process is completed, you can access various attributes of GR, such as best_params_ to obtain the best hyperparameters found during the search and best_score_ to obtain the corresponding best score achieved."
      ],
      "metadata": {
        "id": "7-BBwVcx-c9j"
      }
    },
    {
      "cell_type": "markdown",
      "metadata": {
        "id": "tif9ZLAvdY1h"
      },
      "source": [
        "The number of nodes and the maximum depth of the tree."
      ]
    },
    {
      "cell_type": "code",
      "execution_count": 50,
      "metadata": {
        "ExecuteTime": {
          "end_time": "2017-04-10T00:05:00.732520Z",
          "start_time": "2017-04-09T20:05:00.726551-04:00"
        },
        "jupyter": {
          "outputs_hidden": false
        },
        "id": "UYNNiI4CdY1h",
        "outputId": "97622243-3ce6-4826-d7be-40f710f0a936",
        "colab": {
          "base_uri": "https://localhost:8080/"
        }
      },
      "outputs": [
        {
          "output_type": "execute_result",
          "data": {
            "text/plain": [
              "(99, 7)"
            ]
          },
          "metadata": {},
          "execution_count": 50
        }
      ],
      "source": [
        "GR.best_estimator_.tree_.node_count, GR.best_estimator_.tree_.max_depth"
      ]
    },
    {
      "cell_type": "code",
      "source": [
        "best_params = GR.best_params_\n",
        "print(\"Best Hyperparameters:\", best_params)"
      ],
      "metadata": {
        "colab": {
          "base_uri": "https://localhost:8080/"
        },
        "id": "Ch_dHe-aB8dg",
        "outputId": "b62d9a42-0295-4585-ea76-d09e36670c0f"
      },
      "execution_count": 51,
      "outputs": [
        {
          "output_type": "stream",
          "name": "stdout",
          "text": [
            "Best Hyperparameters: {'max_depth': 7, 'max_features': 9}\n"
          ]
        }
      ]
    },
    {
      "cell_type": "markdown",
      "source": [
        "**In the example above, GR is the GridSearchCV object that has been fitted to the training data. The best_params_ attribute is accessed to retrieve the dictionary of the best hyperparameters.**\n",
        "\n",
        "You can then print or inspect best_params to review the best hyperparameter values found by the grid search.\n",
        "\n",
        "Note that the best_params_ attribute will include all the hyperparameters that were specified in the param_grid during the grid search, along with their corresponding best values.\n",
        "\n",
        "Additionally, you can also access other useful attributes of the GridSearchCV object, such as best_score_ (the best score achieved during the grid search) and cv_results_ (a dictionary containing detailed information about all the evaluated hyperparameter combinations and their scores). These attributes provide further insights into the performance and results of the grid search."
      ],
      "metadata": {
        "id": "w29A-UDKCHi1"
      }
    },
    {
      "cell_type": "markdown",
      "metadata": {
        "id": "e9iZXSgGdY1h"
      },
      "source": [
        "These test errors are a little better than the previous ones. So it would seem the previous example overfit the data, but only slightly so."
      ]
    },
    {
      "cell_type": "code",
      "source": [
        "# Get the best decision tree model from GridSearchCV\n",
        "best_dt_model = GR.best_estimator_\n",
        "\n",
        "# Get the feature importances\n",
        "feature_importances = best_dt_model.feature_importances_\n",
        "\n",
        "# Create a list of tuples (feature, importance)\n",
        "feature_importance_list = list(zip(X_train.columns, feature_importances))\n",
        "\n",
        "# Sort the list by importance (in descending order)\n",
        "feature_importance_list.sort(key=lambda x: x[1], reverse=True)\n",
        "\n",
        "# Print the features and their importance values\n",
        "print(\"Feature Importance:\")\n",
        "for feature, importance in feature_importance_list:\n",
        "    print(f\"{feature}: {importance}\")\n"
      ],
      "metadata": {
        "colab": {
          "base_uri": "https://localhost:8080/"
        },
        "id": "_tm-7aafDGly",
        "outputId": "0949e37b-92cf-41f4-a753-61b925a4dea8"
      },
      "execution_count": 54,
      "outputs": [
        {
          "output_type": "stream",
          "name": "stdout",
          "text": [
            "Feature Importance:\n",
            "chlorides: 0.6491974948277066\n",
            "total_sulfur_dioxide: 0.21665112044354956\n",
            "fixed_acidity: 0.031130378570835508\n",
            "volatile_acidity: 0.0307906833273487\n",
            "density: 0.029136628120758786\n",
            "sulphates: 0.017447217175956375\n",
            "pH: 0.015389440570853851\n",
            "alcohol: 0.003439016668939919\n",
            "free_sulfur_dioxide: 0.002561186674491211\n",
            "residual_sugar: 0.002450396964865831\n",
            "citric_acid: 0.0018064366546936947\n",
            "quality: 0.0\n"
          ]
        }
      ]
    },
    {
      "cell_type": "markdown",
      "source": [
        "**The numbers provided in the feature importance list are not R-squared values.**\n",
        "\n",
        "R-squared (coefficient of determination) is a metric that measures the goodness of fit of a regression model and represents the proportion of the variance in the dependent variable that can be explained by the independent variables.\n",
        "\n",
        "**The feature importance values you see are specific to the feature selection algorithm or technique used (such as decision trees) and represent the relative importance or contribution of each feature in the model. These values are not directly related to R-squared.**\n",
        "\n",
        "Feature importance values indicate how much each feature influences the model's predictions or target variable. The higher the importance value, the more influential the feature is in making predictions or explaining the target variable. These values provide insights into the relative significance of the features within the context of the specific algorithm and dataset.\n",
        "\n",
        "While both R-squared and feature importance are useful in model analysis, they capture different aspects. R-squared measures the overall fit of a regression model, while feature importance focuses on the relative importance of individual features within a model."
      ],
      "metadata": {
        "id": "044znyEKG9Sb"
      }
    },
    {
      "cell_type": "code",
      "execution_count": 55,
      "metadata": {
        "ExecuteTime": {
          "end_time": "2017-04-10T00:05:00.761770Z",
          "start_time": "2017-04-09T20:05:00.736164-04:00"
        },
        "id": "S95SfwoFdY1h"
      },
      "outputs": [],
      "source": [
        "y_train_pred_gr = GR.predict(X_train)\n",
        "y_test_pred_gr = GR.predict(X_test)\n",
        "\n",
        "train_test_gr_error = pd.concat([measure_error(y_train, y_train_pred_gr, 'train'),\n",
        "                                 measure_error(y_test, y_test_pred_gr, 'test')],\n",
        "                                axis=1)"
      ]
    },
    {
      "cell_type": "code",
      "execution_count": 56,
      "metadata": {
        "ExecuteTime": {
          "end_time": "2017-04-10T00:05:00.778206Z",
          "start_time": "2017-04-09T20:05:00.763889-04:00"
        },
        "jupyter": {
          "outputs_hidden": false
        },
        "id": "Tn4OZxeQdY1h",
        "outputId": "0dbfe970-117a-46f5-b77c-0564fafeaebb",
        "colab": {
          "base_uri": "https://localhost:8080/",
          "height": 174
        }
      },
      "outputs": [
        {
          "output_type": "execute_result",
          "data": {
            "text/plain": [
              "              train      test\n",
              "accuracy   0.995816  0.989000\n",
              "precision  0.998501  0.983539\n",
              "recall     0.984479  0.971545\n",
              "f1         0.991440  0.977505"
            ],
            "text/html": [
              "\n",
              "\n",
              "  <div id=\"df-f0677c79-4b49-46b2-93e8-0fc7667d24e8\">\n",
              "    <div class=\"colab-df-container\">\n",
              "      <div>\n",
              "<style scoped>\n",
              "    .dataframe tbody tr th:only-of-type {\n",
              "        vertical-align: middle;\n",
              "    }\n",
              "\n",
              "    .dataframe tbody tr th {\n",
              "        vertical-align: top;\n",
              "    }\n",
              "\n",
              "    .dataframe thead th {\n",
              "        text-align: right;\n",
              "    }\n",
              "</style>\n",
              "<table border=\"1\" class=\"dataframe\">\n",
              "  <thead>\n",
              "    <tr style=\"text-align: right;\">\n",
              "      <th></th>\n",
              "      <th>train</th>\n",
              "      <th>test</th>\n",
              "    </tr>\n",
              "  </thead>\n",
              "  <tbody>\n",
              "    <tr>\n",
              "      <th>accuracy</th>\n",
              "      <td>0.995816</td>\n",
              "      <td>0.989000</td>\n",
              "    </tr>\n",
              "    <tr>\n",
              "      <th>precision</th>\n",
              "      <td>0.998501</td>\n",
              "      <td>0.983539</td>\n",
              "    </tr>\n",
              "    <tr>\n",
              "      <th>recall</th>\n",
              "      <td>0.984479</td>\n",
              "      <td>0.971545</td>\n",
              "    </tr>\n",
              "    <tr>\n",
              "      <th>f1</th>\n",
              "      <td>0.991440</td>\n",
              "      <td>0.977505</td>\n",
              "    </tr>\n",
              "  </tbody>\n",
              "</table>\n",
              "</div>\n",
              "      <button class=\"colab-df-convert\" onclick=\"convertToInteractive('df-f0677c79-4b49-46b2-93e8-0fc7667d24e8')\"\n",
              "              title=\"Convert this dataframe to an interactive table.\"\n",
              "              style=\"display:none;\">\n",
              "\n",
              "  <svg xmlns=\"http://www.w3.org/2000/svg\" height=\"24px\"viewBox=\"0 0 24 24\"\n",
              "       width=\"24px\">\n",
              "    <path d=\"M0 0h24v24H0V0z\" fill=\"none\"/>\n",
              "    <path d=\"M18.56 5.44l.94 2.06.94-2.06 2.06-.94-2.06-.94-.94-2.06-.94 2.06-2.06.94zm-11 1L8.5 8.5l.94-2.06 2.06-.94-2.06-.94L8.5 2.5l-.94 2.06-2.06.94zm10 10l.94 2.06.94-2.06 2.06-.94-2.06-.94-.94-2.06-.94 2.06-2.06.94z\"/><path d=\"M17.41 7.96l-1.37-1.37c-.4-.4-.92-.59-1.43-.59-.52 0-1.04.2-1.43.59L10.3 9.45l-7.72 7.72c-.78.78-.78 2.05 0 2.83L4 21.41c.39.39.9.59 1.41.59.51 0 1.02-.2 1.41-.59l7.78-7.78 2.81-2.81c.8-.78.8-2.07 0-2.86zM5.41 20L4 18.59l7.72-7.72 1.47 1.35L5.41 20z\"/>\n",
              "  </svg>\n",
              "      </button>\n",
              "\n",
              "\n",
              "\n",
              "    <div id=\"df-956b7e22-a50f-4a87-acca-c9dabe6040ee\">\n",
              "      <button class=\"colab-df-quickchart\" onclick=\"quickchart('df-956b7e22-a50f-4a87-acca-c9dabe6040ee')\"\n",
              "              title=\"Suggest charts.\"\n",
              "              style=\"display:none;\">\n",
              "\n",
              "<svg xmlns=\"http://www.w3.org/2000/svg\" height=\"24px\"viewBox=\"0 0 24 24\"\n",
              "     width=\"24px\">\n",
              "    <g>\n",
              "        <path d=\"M19 3H5c-1.1 0-2 .9-2 2v14c0 1.1.9 2 2 2h14c1.1 0 2-.9 2-2V5c0-1.1-.9-2-2-2zM9 17H7v-7h2v7zm4 0h-2V7h2v10zm4 0h-2v-4h2v4z\"/>\n",
              "    </g>\n",
              "</svg>\n",
              "      </button>\n",
              "    </div>\n",
              "\n",
              "<style>\n",
              "  .colab-df-quickchart {\n",
              "    background-color: #E8F0FE;\n",
              "    border: none;\n",
              "    border-radius: 50%;\n",
              "    cursor: pointer;\n",
              "    display: none;\n",
              "    fill: #1967D2;\n",
              "    height: 32px;\n",
              "    padding: 0 0 0 0;\n",
              "    width: 32px;\n",
              "  }\n",
              "\n",
              "  .colab-df-quickchart:hover {\n",
              "    background-color: #E2EBFA;\n",
              "    box-shadow: 0px 1px 2px rgba(60, 64, 67, 0.3), 0px 1px 3px 1px rgba(60, 64, 67, 0.15);\n",
              "    fill: #174EA6;\n",
              "  }\n",
              "\n",
              "  [theme=dark] .colab-df-quickchart {\n",
              "    background-color: #3B4455;\n",
              "    fill: #D2E3FC;\n",
              "  }\n",
              "\n",
              "  [theme=dark] .colab-df-quickchart:hover {\n",
              "    background-color: #434B5C;\n",
              "    box-shadow: 0px 1px 3px 1px rgba(0, 0, 0, 0.15);\n",
              "    filter: drop-shadow(0px 1px 2px rgba(0, 0, 0, 0.3));\n",
              "    fill: #FFFFFF;\n",
              "  }\n",
              "</style>\n",
              "\n",
              "    <script>\n",
              "      async function quickchart(key) {\n",
              "        const containerElement = document.querySelector('#' + key);\n",
              "        const charts = await google.colab.kernel.invokeFunction(\n",
              "            'suggestCharts', [key], {});\n",
              "      }\n",
              "    </script>\n",
              "\n",
              "      <script>\n",
              "\n",
              "function displayQuickchartButton(domScope) {\n",
              "  let quickchartButtonEl =\n",
              "    domScope.querySelector('#df-956b7e22-a50f-4a87-acca-c9dabe6040ee button.colab-df-quickchart');\n",
              "  quickchartButtonEl.style.display =\n",
              "    google.colab.kernel.accessAllowed ? 'block' : 'none';\n",
              "}\n",
              "\n",
              "        displayQuickchartButton(document);\n",
              "      </script>\n",
              "      <style>\n",
              "    .colab-df-container {\n",
              "      display:flex;\n",
              "      flex-wrap:wrap;\n",
              "      gap: 12px;\n",
              "    }\n",
              "\n",
              "    .colab-df-convert {\n",
              "      background-color: #E8F0FE;\n",
              "      border: none;\n",
              "      border-radius: 50%;\n",
              "      cursor: pointer;\n",
              "      display: none;\n",
              "      fill: #1967D2;\n",
              "      height: 32px;\n",
              "      padding: 0 0 0 0;\n",
              "      width: 32px;\n",
              "    }\n",
              "\n",
              "    .colab-df-convert:hover {\n",
              "      background-color: #E2EBFA;\n",
              "      box-shadow: 0px 1px 2px rgba(60, 64, 67, 0.3), 0px 1px 3px 1px rgba(60, 64, 67, 0.15);\n",
              "      fill: #174EA6;\n",
              "    }\n",
              "\n",
              "    [theme=dark] .colab-df-convert {\n",
              "      background-color: #3B4455;\n",
              "      fill: #D2E3FC;\n",
              "    }\n",
              "\n",
              "    [theme=dark] .colab-df-convert:hover {\n",
              "      background-color: #434B5C;\n",
              "      box-shadow: 0px 1px 3px 1px rgba(0, 0, 0, 0.15);\n",
              "      filter: drop-shadow(0px 1px 2px rgba(0, 0, 0, 0.3));\n",
              "      fill: #FFFFFF;\n",
              "    }\n",
              "  </style>\n",
              "\n",
              "      <script>\n",
              "        const buttonEl =\n",
              "          document.querySelector('#df-f0677c79-4b49-46b2-93e8-0fc7667d24e8 button.colab-df-convert');\n",
              "        buttonEl.style.display =\n",
              "          google.colab.kernel.accessAllowed ? 'block' : 'none';\n",
              "\n",
              "        async function convertToInteractive(key) {\n",
              "          const element = document.querySelector('#df-f0677c79-4b49-46b2-93e8-0fc7667d24e8');\n",
              "          const dataTable =\n",
              "            await google.colab.kernel.invokeFunction('convertToInteractive',\n",
              "                                                     [key], {});\n",
              "          if (!dataTable) return;\n",
              "\n",
              "          const docLinkHtml = 'Like what you see? Visit the ' +\n",
              "            '<a target=\"_blank\" href=https://colab.research.google.com/notebooks/data_table.ipynb>data table notebook</a>'\n",
              "            + ' to learn more about interactive tables.';\n",
              "          element.innerHTML = '';\n",
              "          dataTable['output_type'] = 'display_data';\n",
              "          await google.colab.output.renderOutput(dataTable, element);\n",
              "          const docLink = document.createElement('div');\n",
              "          docLink.innerHTML = docLinkHtml;\n",
              "          element.appendChild(docLink);\n",
              "        }\n",
              "      </script>\n",
              "    </div>\n",
              "  </div>\n"
            ]
          },
          "metadata": {},
          "execution_count": 56
        }
      ],
      "source": [
        "train_test_gr_error"
      ]
    },
    {
      "cell_type": "markdown",
      "metadata": {
        "id": "0zrtoA2BdY1i"
      },
      "source": [
        "## Re-split the Data\n",
        "\n",
        "* Re-split the data into `X` and `y` parts, this time with `residual_sugar` being the predicted (`y`) data. *Note:* if the indices were preserved from the `StratifiedShuffleSplit` output in question 2, they can be used again to split the data.\n",
        "* Using grid search with cross validation, find a decision tree **regression** model that performs well on the test data set.\n",
        "* Measure the errors on the training and test sets using mean squared error.\n",
        "* Make a plot of actual *vs* predicted residual sugar."
      ]
    },
    {
      "cell_type": "code",
      "execution_count": 57,
      "metadata": {
        "ExecuteTime": {
          "end_time": "2017-04-10T00:05:00.801822Z",
          "start_time": "2017-04-09T20:05:00.781094-04:00"
        },
        "id": "0Lw6ap09dY1i"
      },
      "outputs": [],
      "source": [
        "### BEGIN SOLUTION\n",
        "feature_cols = [x for x in data.columns if x != 'residual_sugar']\n",
        "\n",
        "# Create the data sets\n",
        "X_train = data.loc[train_idx, feature_cols]\n",
        "y_train = data.loc[train_idx, 'residual_sugar']\n",
        "\n",
        "X_test = data.loc[test_idx, feature_cols]\n",
        "y_test = data.loc[test_idx, 'residual_sugar']"
      ]
    },
    {
      "cell_type": "code",
      "execution_count": 58,
      "metadata": {
        "ExecuteTime": {
          "end_time": "2017-04-10T00:05:05.108706Z",
          "start_time": "2017-04-09T20:05:00.805520-04:00"
        },
        "id": "5FAs5CS6dY1i"
      },
      "outputs": [],
      "source": [
        "from sklearn.tree import DecisionTreeRegressor\n",
        "\n",
        "dr = DecisionTreeRegressor().fit(X_train, y_train)\n",
        "\n",
        "param_grid = {'max_depth':range(1, dr.tree_.max_depth+1, 2),\n",
        "              'max_features': range(1, len(dr.feature_importances_)+1)}\n",
        "\n",
        "GR_sugar = GridSearchCV(DecisionTreeRegressor(random_state=42),\n",
        "                     param_grid=param_grid,\n",
        "                     scoring='neg_mean_squared_error',\n",
        "                      n_jobs=-1)\n",
        "\n",
        "GR_sugar = GR_sugar.fit(X_train, y_train)"
      ]
    },
    {
      "cell_type": "markdown",
      "metadata": {
        "id": "B5KBzub-dY1i"
      },
      "source": [
        "The number of nodes and the maximum depth of the tree. This tree has lots of nodes, which is not so surprising given the continuous data."
      ]
    },
    {
      "cell_type": "code",
      "execution_count": 59,
      "metadata": {
        "ExecuteTime": {
          "end_time": "2017-04-10T00:05:05.119777Z",
          "start_time": "2017-04-09T20:05:05.111176-04:00"
        },
        "jupyter": {
          "outputs_hidden": false
        },
        "id": "yBlzHGZ5dY1i",
        "outputId": "abc9745f-82c3-4463-dcc9-ee623ad236d0",
        "colab": {
          "base_uri": "https://localhost:8080/"
        }
      },
      "outputs": [
        {
          "output_type": "execute_result",
          "data": {
            "text/plain": [
              "(7953, 25)"
            ]
          },
          "metadata": {},
          "execution_count": 59
        }
      ],
      "source": [
        "GR_sugar.best_estimator_.tree_.node_count, GR_sugar.best_estimator_.tree_.max_depth"
      ]
    },
    {
      "cell_type": "markdown",
      "metadata": {
        "id": "CDjUZr93dY1i"
      },
      "source": [
        "The error on train and test data sets. Since this is continuous, we will use mean squared error."
      ]
    },
    {
      "cell_type": "code",
      "execution_count": 60,
      "metadata": {
        "ExecuteTime": {
          "end_time": "2017-04-10T00:05:05.148178Z",
          "start_time": "2017-04-09T20:05:05.122534-04:00"
        },
        "jupyter": {
          "outputs_hidden": false
        },
        "id": "V3dtzZ1ndY1j",
        "outputId": "6f770b2b-4d01-4121-d431-f6dba6fcfd80",
        "colab": {
          "base_uri": "https://localhost:8080/",
          "height": 80
        }
      },
      "outputs": [
        {
          "output_type": "execute_result",
          "data": {
            "text/plain": [
              "       train      test\n",
              "MSE  0.00055  2.659874"
            ],
            "text/html": [
              "\n",
              "\n",
              "  <div id=\"df-9fcb798f-f255-4cc4-ab02-8192f6545331\">\n",
              "    <div class=\"colab-df-container\">\n",
              "      <div>\n",
              "<style scoped>\n",
              "    .dataframe tbody tr th:only-of-type {\n",
              "        vertical-align: middle;\n",
              "    }\n",
              "\n",
              "    .dataframe tbody tr th {\n",
              "        vertical-align: top;\n",
              "    }\n",
              "\n",
              "    .dataframe thead th {\n",
              "        text-align: right;\n",
              "    }\n",
              "</style>\n",
              "<table border=\"1\" class=\"dataframe\">\n",
              "  <thead>\n",
              "    <tr style=\"text-align: right;\">\n",
              "      <th></th>\n",
              "      <th>train</th>\n",
              "      <th>test</th>\n",
              "    </tr>\n",
              "  </thead>\n",
              "  <tbody>\n",
              "    <tr>\n",
              "      <th>MSE</th>\n",
              "      <td>0.00055</td>\n",
              "      <td>2.659874</td>\n",
              "    </tr>\n",
              "  </tbody>\n",
              "</table>\n",
              "</div>\n",
              "      <button class=\"colab-df-convert\" onclick=\"convertToInteractive('df-9fcb798f-f255-4cc4-ab02-8192f6545331')\"\n",
              "              title=\"Convert this dataframe to an interactive table.\"\n",
              "              style=\"display:none;\">\n",
              "\n",
              "  <svg xmlns=\"http://www.w3.org/2000/svg\" height=\"24px\"viewBox=\"0 0 24 24\"\n",
              "       width=\"24px\">\n",
              "    <path d=\"M0 0h24v24H0V0z\" fill=\"none\"/>\n",
              "    <path d=\"M18.56 5.44l.94 2.06.94-2.06 2.06-.94-2.06-.94-.94-2.06-.94 2.06-2.06.94zm-11 1L8.5 8.5l.94-2.06 2.06-.94-2.06-.94L8.5 2.5l-.94 2.06-2.06.94zm10 10l.94 2.06.94-2.06 2.06-.94-2.06-.94-.94-2.06-.94 2.06-2.06.94z\"/><path d=\"M17.41 7.96l-1.37-1.37c-.4-.4-.92-.59-1.43-.59-.52 0-1.04.2-1.43.59L10.3 9.45l-7.72 7.72c-.78.78-.78 2.05 0 2.83L4 21.41c.39.39.9.59 1.41.59.51 0 1.02-.2 1.41-.59l7.78-7.78 2.81-2.81c.8-.78.8-2.07 0-2.86zM5.41 20L4 18.59l7.72-7.72 1.47 1.35L5.41 20z\"/>\n",
              "  </svg>\n",
              "      </button>\n",
              "\n",
              "\n",
              "\n",
              "    <div id=\"df-74256f41-ef35-45ed-9bfc-602c6225a162\">\n",
              "      <button class=\"colab-df-quickchart\" onclick=\"quickchart('df-74256f41-ef35-45ed-9bfc-602c6225a162')\"\n",
              "              title=\"Suggest charts.\"\n",
              "              style=\"display:none;\">\n",
              "\n",
              "<svg xmlns=\"http://www.w3.org/2000/svg\" height=\"24px\"viewBox=\"0 0 24 24\"\n",
              "     width=\"24px\">\n",
              "    <g>\n",
              "        <path d=\"M19 3H5c-1.1 0-2 .9-2 2v14c0 1.1.9 2 2 2h14c1.1 0 2-.9 2-2V5c0-1.1-.9-2-2-2zM9 17H7v-7h2v7zm4 0h-2V7h2v10zm4 0h-2v-4h2v4z\"/>\n",
              "    </g>\n",
              "</svg>\n",
              "      </button>\n",
              "    </div>\n",
              "\n",
              "<style>\n",
              "  .colab-df-quickchart {\n",
              "    background-color: #E8F0FE;\n",
              "    border: none;\n",
              "    border-radius: 50%;\n",
              "    cursor: pointer;\n",
              "    display: none;\n",
              "    fill: #1967D2;\n",
              "    height: 32px;\n",
              "    padding: 0 0 0 0;\n",
              "    width: 32px;\n",
              "  }\n",
              "\n",
              "  .colab-df-quickchart:hover {\n",
              "    background-color: #E2EBFA;\n",
              "    box-shadow: 0px 1px 2px rgba(60, 64, 67, 0.3), 0px 1px 3px 1px rgba(60, 64, 67, 0.15);\n",
              "    fill: #174EA6;\n",
              "  }\n",
              "\n",
              "  [theme=dark] .colab-df-quickchart {\n",
              "    background-color: #3B4455;\n",
              "    fill: #D2E3FC;\n",
              "  }\n",
              "\n",
              "  [theme=dark] .colab-df-quickchart:hover {\n",
              "    background-color: #434B5C;\n",
              "    box-shadow: 0px 1px 3px 1px rgba(0, 0, 0, 0.15);\n",
              "    filter: drop-shadow(0px 1px 2px rgba(0, 0, 0, 0.3));\n",
              "    fill: #FFFFFF;\n",
              "  }\n",
              "</style>\n",
              "\n",
              "    <script>\n",
              "      async function quickchart(key) {\n",
              "        const containerElement = document.querySelector('#' + key);\n",
              "        const charts = await google.colab.kernel.invokeFunction(\n",
              "            'suggestCharts', [key], {});\n",
              "      }\n",
              "    </script>\n",
              "\n",
              "      <script>\n",
              "\n",
              "function displayQuickchartButton(domScope) {\n",
              "  let quickchartButtonEl =\n",
              "    domScope.querySelector('#df-74256f41-ef35-45ed-9bfc-602c6225a162 button.colab-df-quickchart');\n",
              "  quickchartButtonEl.style.display =\n",
              "    google.colab.kernel.accessAllowed ? 'block' : 'none';\n",
              "}\n",
              "\n",
              "        displayQuickchartButton(document);\n",
              "      </script>\n",
              "      <style>\n",
              "    .colab-df-container {\n",
              "      display:flex;\n",
              "      flex-wrap:wrap;\n",
              "      gap: 12px;\n",
              "    }\n",
              "\n",
              "    .colab-df-convert {\n",
              "      background-color: #E8F0FE;\n",
              "      border: none;\n",
              "      border-radius: 50%;\n",
              "      cursor: pointer;\n",
              "      display: none;\n",
              "      fill: #1967D2;\n",
              "      height: 32px;\n",
              "      padding: 0 0 0 0;\n",
              "      width: 32px;\n",
              "    }\n",
              "\n",
              "    .colab-df-convert:hover {\n",
              "      background-color: #E2EBFA;\n",
              "      box-shadow: 0px 1px 2px rgba(60, 64, 67, 0.3), 0px 1px 3px 1px rgba(60, 64, 67, 0.15);\n",
              "      fill: #174EA6;\n",
              "    }\n",
              "\n",
              "    [theme=dark] .colab-df-convert {\n",
              "      background-color: #3B4455;\n",
              "      fill: #D2E3FC;\n",
              "    }\n",
              "\n",
              "    [theme=dark] .colab-df-convert:hover {\n",
              "      background-color: #434B5C;\n",
              "      box-shadow: 0px 1px 3px 1px rgba(0, 0, 0, 0.15);\n",
              "      filter: drop-shadow(0px 1px 2px rgba(0, 0, 0, 0.3));\n",
              "      fill: #FFFFFF;\n",
              "    }\n",
              "  </style>\n",
              "\n",
              "      <script>\n",
              "        const buttonEl =\n",
              "          document.querySelector('#df-9fcb798f-f255-4cc4-ab02-8192f6545331 button.colab-df-convert');\n",
              "        buttonEl.style.display =\n",
              "          google.colab.kernel.accessAllowed ? 'block' : 'none';\n",
              "\n",
              "        async function convertToInteractive(key) {\n",
              "          const element = document.querySelector('#df-9fcb798f-f255-4cc4-ab02-8192f6545331');\n",
              "          const dataTable =\n",
              "            await google.colab.kernel.invokeFunction('convertToInteractive',\n",
              "                                                     [key], {});\n",
              "          if (!dataTable) return;\n",
              "\n",
              "          const docLinkHtml = 'Like what you see? Visit the ' +\n",
              "            '<a target=\"_blank\" href=https://colab.research.google.com/notebooks/data_table.ipynb>data table notebook</a>'\n",
              "            + ' to learn more about interactive tables.';\n",
              "          element.innerHTML = '';\n",
              "          dataTable['output_type'] = 'display_data';\n",
              "          await google.colab.output.renderOutput(dataTable, element);\n",
              "          const docLink = document.createElement('div');\n",
              "          docLink.innerHTML = docLinkHtml;\n",
              "          element.appendChild(docLink);\n",
              "        }\n",
              "      </script>\n",
              "    </div>\n",
              "  </div>\n"
            ]
          },
          "metadata": {},
          "execution_count": 60
        }
      ],
      "source": [
        "from sklearn.metrics import mean_squared_error\n",
        "\n",
        "y_train_pred_gr_sugar = GR_sugar.predict(X_train)\n",
        "y_test_pred_gr_sugar  = GR_sugar.predict(X_test)\n",
        "\n",
        "train_test_gr_sugar_error = pd.Series({'train': mean_squared_error(y_train, y_train_pred_gr_sugar),\n",
        "                                         'test':  mean_squared_error(y_test, y_test_pred_gr_sugar)},\n",
        "                                          name='MSE').to_frame().T\n",
        "\n",
        "train_test_gr_sugar_error"
      ]
    },
    {
      "cell_type": "markdown",
      "metadata": {
        "id": "mYveTwqTdY1j"
      },
      "source": [
        "A plot of actual vs predicted residual sugar."
      ]
    },
    {
      "cell_type": "code",
      "execution_count": 61,
      "metadata": {
        "ExecuteTime": {
          "end_time": "2017-04-10T00:05:05.578043Z",
          "start_time": "2017-04-09T20:05:05.355944-04:00"
        },
        "jupyter": {
          "outputs_hidden": false
        },
        "id": "mdgHddHhdY1j",
        "outputId": "02d6d897-914c-473b-9439-f8c667d65264",
        "colab": {
          "base_uri": "https://localhost:8080/",
          "height": 556
        }
      },
      "outputs": [
        {
          "output_type": "display_data",
          "data": {
            "text/plain": [
              "<Figure size 600x600 with 1 Axes>"
            ],
            "image/png": "[encoded data removed]"
          },
          "metadata": {}
        }
      ],
      "source": [
        "sns.set_context('notebook')\n",
        "sns.set_style('white')\n",
        "fig = plt.figure(figsize=(6,6))\n",
        "ax = plt.axes()\n",
        "\n",
        "ph_test_predict = pd.DataFrame({'test':y_test.values,\n",
        "                                'predict': y_test_pred_gr_sugar}).set_index('test').sort_index()\n",
        "\n",
        "ph_test_predict.plot(marker='o', ls='', ax=ax)\n",
        "ax.set(xlabel='Test', ylabel='Predict', xlim=(0,35), ylim=(0,35));"
      ]
    },
    {
      "cell_type": "markdown",
      "metadata": {
        "id": "j5nZs85CdY1q"
      },
      "source": [
        "## Question 6\n",
        "\n",
        "This question requires an additional command line program (GraphViz) and Python library (PyDotPlus). GraphViz can be installed with a package manager on Linux and Mac. For PyDotPlus, either `pip` or `conda` (`conda install -c conda-forge pydotplus`) can be used to install the library.\n",
        "\n",
        "Once these programs are installed:\n",
        "\n",
        "* Create a visualization of the decision tree from question 3, where wine color was predicted and the number of features and/or splits are not limited.\n",
        "* Create a visualization of the decision tree from question 4, where wine color was predicted but a grid search was used to find the optimal depth and number of features.\n",
        "\n",
        "The decision tree from question 5 will likely have too many nodes to visualize."
      ]
    },
    {
      "cell_type": "code",
      "execution_count": null,
      "metadata": {
        "ExecuteTime": {
          "end_time": "2017-04-10T00:05:05.588035Z",
          "start_time": "2017-04-09T20:05:05.579730-04:00"
        },
        "id": "M2iUMlTcdY1q"
      },
      "outputs": [],
      "source": [
        "from io import StringIO\n",
        "from IPython.display import Image\n",
        "from sklearn.tree import export_graphviz\n",
        "import pydotplus"
      ]
    },
    {
      "cell_type": "markdown",
      "metadata": {
        "id": "be_NABCodY1q"
      },
      "source": [
        "The tree from question 3."
      ]
    },
    {
      "cell_type": "code",
      "execution_count": null,
      "metadata": {
        "ExecuteTime": {
          "end_time": "2017-04-10T00:05:08.253110Z",
          "start_time": "2017-04-09T20:05:05.590645-04:00"
        },
        "jupyter": {
          "outputs_hidden": false
        },
        "id": "5dX0-69GdY1q"
      },
      "outputs": [],
      "source": [
        "### BEGIN SOLUTION\n",
        "# Create an output destination for the file\n",
        "dot_data = StringIO()\n",
        "\n",
        "export_graphviz(dt, out_file=dot_data, filled=True)\n",
        "graph = pydotplus.graph_from_dot_data(dot_data.getvalue())\n",
        "\n",
        "# View the tree image\n",
        "filename = 'wine_tree.png'\n",
        "graph.write_png(filename)\n",
        "Image(filename=filename)"
      ]
    },
    {
      "cell_type": "markdown",
      "metadata": {
        "id": "KLQ-YjrtdY1r"
      },
      "source": [
        "The tree fit with cross validation from question 4. This tree is much shallower than the previous one."
      ]
    },
    {
      "cell_type": "code",
      "execution_count": null,
      "metadata": {
        "ExecuteTime": {
          "end_time": "2017-04-10T00:05:10.669095Z",
          "start_time": "2017-04-09T20:05:08.257642-04:00"
        },
        "jupyter": {
          "outputs_hidden": false
        },
        "id": "bA_ZCW41dY1r"
      },
      "outputs": [],
      "source": [
        "# Create an output destination for the file\n",
        "dot_data = StringIO()\n",
        "\n",
        "export_graphviz(GR.best_estimator_, out_file=dot_data, filled=True)\n",
        "graph = pydotplus.graph_from_dot_data(dot_data.getvalue())\n",
        "\n",
        "# View the tree image\n",
        "filename = 'wine_tree_prune.png'\n",
        "graph.write_png(filename)\n",
        "Image(filename=filename)\n",
        "### END SOLUTION"
      ]
    },
    {
      "cell_type": "markdown",
      "metadata": {
        "id": "CeJteyx9dY1r"
      },
      "source": [
        "---\n",
        "### Dr. Petros Panagiotidis"
      ]
    },
    {
      "cell_type": "code",
      "source": [],
      "metadata": {
        "id": "UkXjWlywIds_"
      },
      "execution_count": null,
      "outputs": []
    }
  ],
  "metadata": {
    "kernelspec": {
      "display_name": "Python 3",
      "language": "python",
      "name": "python3"
    },
    "language_info": {
      "codemirror_mode": {
        "name": "ipython",
        "version": 3
      },
      "file_extension": ".py",
      "mimetype": "text/x-python",
      "name": "python",
      "nbconvert_exporter": "python",
      "pygments_lexer": "ipython3",
      "version": "3.7.4"
    },
    "colab": {
      "provenance": [],
      "include_colab_link": true
    }
  },
  "nbformat": 4,
  "nbformat_minor": 0
}