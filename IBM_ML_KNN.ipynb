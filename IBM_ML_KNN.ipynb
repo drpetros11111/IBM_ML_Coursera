{
  "nbformat": 4,
  "nbformat_minor": 0,
  "metadata": {
    "colab": {
      "provenance": [],
      "authorship_tag": "ABX9TyN3Oki5Dik4ARJ/9XlWyudN",
      "include_colab_link": true
    },
    "kernelspec": {
      "name": "python3",
      "display_name": "Python 3"
    },
    "language_info": {
      "name": "python"
    }
  },
  "cells": [
    {
      "cell_type": "markdown",
      "metadata": {
        "id": "view-in-github",
        "colab_type": "text"
      },
      "source": [
        "<a href=\"https://colab.research.google.com/github/drpetros11111/IBM_ML_Coursera/blob/IBM-KNN-Training/IBM_ML_KNN.ipynb\" target=\"_parent\"><img src=\"https://colab.research.google.com/assets/colab-badge.svg\" alt=\"Open In Colab\"/></a>"
      ]
    },
    {
      "cell_type": "markdown",
      "source": [
        "#**0_Introduction and Learning Goals¶**\n",
        "In this lab, we will explore classification using the K-Nearest Neighbors approach. We will use a customer churn dataset from the telecom industry, which includes customer data such as long-distance usage, data usage, monthly revenue, types of offerings, and other services purchased by customers. The data, based on a fictional telecom firm, includes several Excel files which have been combined and are available in the course materials. We are using the subset of customers who have phone accounts. Since the data includes a mix of numeric, categorical, and ordinal variables, we will load this data and do some preprocessing. Then we will use K-nearest neighbors to predict customer churn rates.\n",
        "\n",
        "After completing this lab, you should have a working understanding of how to preprocess a variety of variables to apply the K-Nearest Neighbors algorithm, understand how to choose K, and understand how to evaluate model performance."
      ],
      "metadata": {
        "id": "dXd29Hr5VDt8"
      }
    },
    {
      "cell_type": "markdown",
      "source": [
        "# 1_Importing the LIbraries"
      ],
      "metadata": {
        "id": "lmStSGRqViEw"
      }
    },
    {
      "cell_type": "code",
      "execution_count": 1,
      "metadata": {
        "id": "V-1Yym0oTuLe"
      },
      "outputs": [],
      "source": [
        "import pandas as pd\n",
        "import numpy as np\n",
        "import matplotlib.pyplot as plt\n",
        "import seaborn as sns"
      ]
    },
    {
      "cell_type": "markdown",
      "source": [
        "#2_Importing the Dataset"
      ],
      "metadata": {
        "id": "i1cD63GbVvu1"
      }
    },
    {
      "cell_type": "code",
      "source": [
        "df = pd.read_csv(\"https://cf-courses-data.s3.us.cloud-object-storage.appdomain.cloud/IBM-ML241EN-SkillsNetwork/labs/datasets/churndata_processed.csv\")"
      ],
      "metadata": {
        "id": "wBCYAu3cUHlN"
      },
      "execution_count": 2,
      "outputs": []
    },
    {
      "cell_type": "code",
      "source": [
        "df.head()"
      ],
      "metadata": {
        "colab": {
          "base_uri": "https://localhost:8080/",
          "height": 317
        },
        "id": "NG1OW-l5UZ-w",
        "outputId": "87df8a4d-1c58-4a79-b20f-b89890fe2e27"
      },
      "execution_count": 3,
      "outputs": [
        {
          "output_type": "execute_result",
          "data": {
            "text/plain": [
              "   months  multiple    gb_mon  security  backup  protection  support  \\\n",
              "0    0.00         0  0.094118         0       0           1        0   \n",
              "1    0.00         1  0.200000         0       1           0        0   \n",
              "2    0.25         1  0.611765         0       0           0        0   \n",
              "3    0.25         0  0.141176         0       1           1        0   \n",
              "4    0.50         1  0.164706         0       0           0        0   \n",
              "\n",
              "   unlimited  contract  paperless  ...  payment_Credit Card  \\\n",
              "0          0       0.0          1  ...                    0   \n",
              "1          1       0.0          1  ...                    1   \n",
              "2          1       0.0          1  ...                    0   \n",
              "3          1       0.0          1  ...                    0   \n",
              "4          1       0.0          1  ...                    0   \n",
              "\n",
              "   payment_Mailed Check  internet_type_DSL  internet_type_Fiber Optic  \\\n",
              "0                     0                  1                          0   \n",
              "1                     0                  0                          1   \n",
              "2                     0                  0                          1   \n",
              "3                     0                  0                          1   \n",
              "4                     0                  0                          1   \n",
              "\n",
              "   internet_type_None  offer_Offer A  offer_Offer B  offer_Offer C  \\\n",
              "0                   0              0              0              0   \n",
              "1                   0              0              0              0   \n",
              "2                   0              0              0              0   \n",
              "3                   0              0              0              1   \n",
              "4                   0              0              0              1   \n",
              "\n",
              "   offer_Offer D  offer_Offer E  \n",
              "0              0              0  \n",
              "1              0              1  \n",
              "2              1              0  \n",
              "3              0              0  \n",
              "4              0              0  \n",
              "\n",
              "[5 rows x 23 columns]"
            ],
            "text/html": [
              "\n",
              "  <div id=\"df-092cd36c-f151-467f-a72e-eb70d21e4269\">\n",
              "    <div class=\"colab-df-container\">\n",
              "      <div>\n",
              "<style scoped>\n",
              "    .dataframe tbody tr th:only-of-type {\n",
              "        vertical-align: middle;\n",
              "    }\n",
              "\n",
              "    .dataframe tbody tr th {\n",
              "        vertical-align: top;\n",
              "    }\n",
              "\n",
              "    .dataframe thead th {\n",
              "        text-align: right;\n",
              "    }\n",
              "</style>\n",
              "<table border=\"1\" class=\"dataframe\">\n",
              "  <thead>\n",
              "    <tr style=\"text-align: right;\">\n",
              "      <th></th>\n",
              "      <th>months</th>\n",
              "      <th>multiple</th>\n",
              "      <th>gb_mon</th>\n",
              "      <th>security</th>\n",
              "      <th>backup</th>\n",
              "      <th>protection</th>\n",
              "      <th>support</th>\n",
              "      <th>unlimited</th>\n",
              "      <th>contract</th>\n",
              "      <th>paperless</th>\n",
              "      <th>...</th>\n",
              "      <th>payment_Credit Card</th>\n",
              "      <th>payment_Mailed Check</th>\n",
              "      <th>internet_type_DSL</th>\n",
              "      <th>internet_type_Fiber Optic</th>\n",
              "      <th>internet_type_None</th>\n",
              "      <th>offer_Offer A</th>\n",
              "      <th>offer_Offer B</th>\n",
              "      <th>offer_Offer C</th>\n",
              "      <th>offer_Offer D</th>\n",
              "      <th>offer_Offer E</th>\n",
              "    </tr>\n",
              "  </thead>\n",
              "  <tbody>\n",
              "    <tr>\n",
              "      <th>0</th>\n",
              "      <td>0.00</td>\n",
              "      <td>0</td>\n",
              "      <td>0.094118</td>\n",
              "      <td>0</td>\n",
              "      <td>0</td>\n",
              "      <td>1</td>\n",
              "      <td>0</td>\n",
              "      <td>0</td>\n",
              "      <td>0.0</td>\n",
              "      <td>1</td>\n",
              "      <td>...</td>\n",
              "      <td>0</td>\n",
              "      <td>0</td>\n",
              "      <td>1</td>\n",
              "      <td>0</td>\n",
              "      <td>0</td>\n",
              "      <td>0</td>\n",
              "      <td>0</td>\n",
              "      <td>0</td>\n",
              "      <td>0</td>\n",
              "      <td>0</td>\n",
              "    </tr>\n",
              "    <tr>\n",
              "      <th>1</th>\n",
              "      <td>0.00</td>\n",
              "      <td>1</td>\n",
              "      <td>0.200000</td>\n",
              "      <td>0</td>\n",
              "      <td>1</td>\n",
              "      <td>0</td>\n",
              "      <td>0</td>\n",
              "      <td>1</td>\n",
              "      <td>0.0</td>\n",
              "      <td>1</td>\n",
              "      <td>...</td>\n",
              "      <td>1</td>\n",
              "      <td>0</td>\n",
              "      <td>0</td>\n",
              "      <td>1</td>\n",
              "      <td>0</td>\n",
              "      <td>0</td>\n",
              "      <td>0</td>\n",
              "      <td>0</td>\n",
              "      <td>0</td>\n",
              "      <td>1</td>\n",
              "    </tr>\n",
              "    <tr>\n",
              "      <th>2</th>\n",
              "      <td>0.25</td>\n",
              "      <td>1</td>\n",
              "      <td>0.611765</td>\n",
              "      <td>0</td>\n",
              "      <td>0</td>\n",
              "      <td>0</td>\n",
              "      <td>0</td>\n",
              "      <td>1</td>\n",
              "      <td>0.0</td>\n",
              "      <td>1</td>\n",
              "      <td>...</td>\n",
              "      <td>0</td>\n",
              "      <td>0</td>\n",
              "      <td>0</td>\n",
              "      <td>1</td>\n",
              "      <td>0</td>\n",
              "      <td>0</td>\n",
              "      <td>0</td>\n",
              "      <td>0</td>\n",
              "      <td>1</td>\n",
              "      <td>0</td>\n",
              "    </tr>\n",
              "    <tr>\n",
              "      <th>3</th>\n",
              "      <td>0.25</td>\n",
              "      <td>0</td>\n",
              "      <td>0.141176</td>\n",
              "      <td>0</td>\n",
              "      <td>1</td>\n",
              "      <td>1</td>\n",
              "      <td>0</td>\n",
              "      <td>1</td>\n",
              "      <td>0.0</td>\n",
              "      <td>1</td>\n",
              "      <td>...</td>\n",
              "      <td>0</td>\n",
              "      <td>0</td>\n",
              "      <td>0</td>\n",
              "      <td>1</td>\n",
              "      <td>0</td>\n",
              "      <td>0</td>\n",
              "      <td>0</td>\n",
              "      <td>1</td>\n",
              "      <td>0</td>\n",
              "      <td>0</td>\n",
              "    </tr>\n",
              "    <tr>\n",
              "      <th>4</th>\n",
              "      <td>0.50</td>\n",
              "      <td>1</td>\n",
              "      <td>0.164706</td>\n",
              "      <td>0</td>\n",
              "      <td>0</td>\n",
              "      <td>0</td>\n",
              "      <td>0</td>\n",
              "      <td>1</td>\n",
              "      <td>0.0</td>\n",
              "      <td>1</td>\n",
              "      <td>...</td>\n",
              "      <td>0</td>\n",
              "      <td>0</td>\n",
              "      <td>0</td>\n",
              "      <td>1</td>\n",
              "      <td>0</td>\n",
              "      <td>0</td>\n",
              "      <td>0</td>\n",
              "      <td>1</td>\n",
              "      <td>0</td>\n",
              "      <td>0</td>\n",
              "    </tr>\n",
              "  </tbody>\n",
              "</table>\n",
              "<p>5 rows × 23 columns</p>\n",
              "</div>\n",
              "      <button class=\"colab-df-convert\" onclick=\"convertToInteractive('df-092cd36c-f151-467f-a72e-eb70d21e4269')\"\n",
              "              title=\"Convert this dataframe to an interactive table.\"\n",
              "              style=\"display:none;\">\n",
              "        \n",
              "  <svg xmlns=\"http://www.w3.org/2000/svg\" height=\"24px\"viewBox=\"0 0 24 24\"\n",
              "       width=\"24px\">\n",
              "    <path d=\"M0 0h24v24H0V0z\" fill=\"none\"/>\n",
              "    <path d=\"M18.56 5.44l.94 2.06.94-2.06 2.06-.94-2.06-.94-.94-2.06-.94 2.06-2.06.94zm-11 1L8.5 8.5l.94-2.06 2.06-.94-2.06-.94L8.5 2.5l-.94 2.06-2.06.94zm10 10l.94 2.06.94-2.06 2.06-.94-2.06-.94-.94-2.06-.94 2.06-2.06.94z\"/><path d=\"M17.41 7.96l-1.37-1.37c-.4-.4-.92-.59-1.43-.59-.52 0-1.04.2-1.43.59L10.3 9.45l-7.72 7.72c-.78.78-.78 2.05 0 2.83L4 21.41c.39.39.9.59 1.41.59.51 0 1.02-.2 1.41-.59l7.78-7.78 2.81-2.81c.8-.78.8-2.07 0-2.86zM5.41 20L4 18.59l7.72-7.72 1.47 1.35L5.41 20z\"/>\n",
              "  </svg>\n",
              "      </button>\n",
              "      \n",
              "  <style>\n",
              "    .colab-df-container {\n",
              "      display:flex;\n",
              "      flex-wrap:wrap;\n",
              "      gap: 12px;\n",
              "    }\n",
              "\n",
              "    .colab-df-convert {\n",
              "      background-color: #E8F0FE;\n",
              "      border: none;\n",
              "      border-radius: 50%;\n",
              "      cursor: pointer;\n",
              "      display: none;\n",
              "      fill: #1967D2;\n",
              "      height: 32px;\n",
              "      padding: 0 0 0 0;\n",
              "      width: 32px;\n",
              "    }\n",
              "\n",
              "    .colab-df-convert:hover {\n",
              "      background-color: #E2EBFA;\n",
              "      box-shadow: 0px 1px 2px rgba(60, 64, 67, 0.3), 0px 1px 3px 1px rgba(60, 64, 67, 0.15);\n",
              "      fill: #174EA6;\n",
              "    }\n",
              "\n",
              "    [theme=dark] .colab-df-convert {\n",
              "      background-color: #3B4455;\n",
              "      fill: #D2E3FC;\n",
              "    }\n",
              "\n",
              "    [theme=dark] .colab-df-convert:hover {\n",
              "      background-color: #434B5C;\n",
              "      box-shadow: 0px 1px 3px 1px rgba(0, 0, 0, 0.15);\n",
              "      filter: drop-shadow(0px 1px 2px rgba(0, 0, 0, 0.3));\n",
              "      fill: #FFFFFF;\n",
              "    }\n",
              "  </style>\n",
              "\n",
              "      <script>\n",
              "        const buttonEl =\n",
              "          document.querySelector('#df-092cd36c-f151-467f-a72e-eb70d21e4269 button.colab-df-convert');\n",
              "        buttonEl.style.display =\n",
              "          google.colab.kernel.accessAllowed ? 'block' : 'none';\n",
              "\n",
              "        async function convertToInteractive(key) {\n",
              "          const element = document.querySelector('#df-092cd36c-f151-467f-a72e-eb70d21e4269');\n",
              "          const dataTable =\n",
              "            await google.colab.kernel.invokeFunction('convertToInteractive',\n",
              "                                                     [key], {});\n",
              "          if (!dataTable) return;\n",
              "\n",
              "          const docLinkHtml = 'Like what you see? Visit the ' +\n",
              "            '<a target=\"_blank\" href=https://colab.research.google.com/notebooks/data_table.ipynb>data table notebook</a>'\n",
              "            + ' to learn more about interactive tables.';\n",
              "          element.innerHTML = '';\n",
              "          dataTable['output_type'] = 'display_data';\n",
              "          await google.colab.output.renderOutput(dataTable, element);\n",
              "          const docLink = document.createElement('div');\n",
              "          docLink.innerHTML = docLinkHtml;\n",
              "          element.appendChild(docLink);\n",
              "        }\n",
              "      </script>\n",
              "    </div>\n",
              "  </div>\n",
              "  "
            ]
          },
          "metadata": {},
          "execution_count": 3
        }
      ]
    },
    {
      "cell_type": "markdown",
      "source": [
        "#3_Perform EDA\n",
        "We begin by importing the data. Examine the columns and data.\n",
        "Notice that the data contains a unique ID, an indicator for phone customer status, total lifetime value, total revenue, and a bank-estimated churn score. We will not be using these features, so they can be dropped from the data.\n",
        "Begin by taking an initial look at the data, including both numeric and non-numeric features."
      ],
      "metadata": {
        "id": "KwZ3mpvEWBNr"
      }
    },
    {
      "cell_type": "markdown",
      "source": [
        "##3.1_Perform Descriptive Statistics on the dataset"
      ],
      "metadata": {
        "id": "MLcx1a-jWWBT"
      }
    },
    {
      "cell_type": "code",
      "source": [
        "round(df.describe(), 2)"
      ],
      "metadata": {
        "colab": {
          "base_uri": "https://localhost:8080/",
          "height": 411
        },
        "id": "buAJuA03UfO7",
        "outputId": "3feaa380-0598-4711-eead-eea6bc2db11a"
      },
      "execution_count": 4,
      "outputs": [
        {
          "output_type": "execute_result",
          "data": {
            "text/plain": [
              "        months  multiple   gb_mon  security   backup  protection  support  \\\n",
              "count  7043.00   7043.00  7043.00   7043.00  7043.00     7043.00  7043.00   \n",
              "mean      0.43      0.42     0.24      0.29     0.34        0.34     0.29   \n",
              "std       0.40      0.49     0.24      0.45     0.48        0.48     0.45   \n",
              "min       0.00      0.00     0.00      0.00     0.00        0.00     0.00   \n",
              "25%       0.00      0.00     0.04      0.00     0.00        0.00     0.00   \n",
              "50%       0.25      0.00     0.20      0.00     0.00        0.00     0.00   \n",
              "75%       0.75      1.00     0.32      1.00     1.00        1.00     1.00   \n",
              "max       1.00      1.00     1.00      1.00     1.00        1.00     1.00   \n",
              "\n",
              "       unlimited  contract  paperless  ...  payment_Credit Card  \\\n",
              "count    7043.00   7043.00    7043.00  ...              7043.00   \n",
              "mean        0.67      0.38       0.59  ...                 0.39   \n",
              "std         0.47      0.42       0.49  ...                 0.49   \n",
              "min         0.00      0.00       0.00  ...                 0.00   \n",
              "25%         0.00      0.00       0.00  ...                 0.00   \n",
              "50%         1.00      0.00       1.00  ...                 0.00   \n",
              "75%         1.00      1.00       1.00  ...                 1.00   \n",
              "max         1.00      1.00       1.00  ...                 1.00   \n",
              "\n",
              "       payment_Mailed Check  internet_type_DSL  internet_type_Fiber Optic  \\\n",
              "count               7043.00            7043.00                    7043.00   \n",
              "mean                   0.05               0.23                       0.43   \n",
              "std                    0.23               0.42                       0.50   \n",
              "min                    0.00               0.00                       0.00   \n",
              "25%                    0.00               0.00                       0.00   \n",
              "50%                    0.00               0.00                       0.00   \n",
              "75%                    0.00               0.00                       1.00   \n",
              "max                    1.00               1.00                       1.00   \n",
              "\n",
              "       internet_type_None  offer_Offer A  offer_Offer B  offer_Offer C  \\\n",
              "count             7043.00        7043.00        7043.00        7043.00   \n",
              "mean                 0.22           0.07           0.12           0.06   \n",
              "std                  0.41           0.26           0.32           0.24   \n",
              "min                  0.00           0.00           0.00           0.00   \n",
              "25%                  0.00           0.00           0.00           0.00   \n",
              "50%                  0.00           0.00           0.00           0.00   \n",
              "75%                  0.00           0.00           0.00           0.00   \n",
              "max                  1.00           1.00           1.00           1.00   \n",
              "\n",
              "       offer_Offer D  offer_Offer E  \n",
              "count        7043.00        7043.00  \n",
              "mean            0.09           0.11  \n",
              "std             0.28           0.32  \n",
              "min             0.00           0.00  \n",
              "25%             0.00           0.00  \n",
              "50%             0.00           0.00  \n",
              "75%             0.00           0.00  \n",
              "max             1.00           1.00  \n",
              "\n",
              "[8 rows x 23 columns]"
            ],
            "text/html": [
              "\n",
              "  <div id=\"df-abb943c5-e176-4b3d-87ff-3739d5ba0c0a\">\n",
              "    <div class=\"colab-df-container\">\n",
              "      <div>\n",
              "<style scoped>\n",
              "    .dataframe tbody tr th:only-of-type {\n",
              "        vertical-align: middle;\n",
              "    }\n",
              "\n",
              "    .dataframe tbody tr th {\n",
              "        vertical-align: top;\n",
              "    }\n",
              "\n",
              "    .dataframe thead th {\n",
              "        text-align: right;\n",
              "    }\n",
              "</style>\n",
              "<table border=\"1\" class=\"dataframe\">\n",
              "  <thead>\n",
              "    <tr style=\"text-align: right;\">\n",
              "      <th></th>\n",
              "      <th>months</th>\n",
              "      <th>multiple</th>\n",
              "      <th>gb_mon</th>\n",
              "      <th>security</th>\n",
              "      <th>backup</th>\n",
              "      <th>protection</th>\n",
              "      <th>support</th>\n",
              "      <th>unlimited</th>\n",
              "      <th>contract</th>\n",
              "      <th>paperless</th>\n",
              "      <th>...</th>\n",
              "      <th>payment_Credit Card</th>\n",
              "      <th>payment_Mailed Check</th>\n",
              "      <th>internet_type_DSL</th>\n",
              "      <th>internet_type_Fiber Optic</th>\n",
              "      <th>internet_type_None</th>\n",
              "      <th>offer_Offer A</th>\n",
              "      <th>offer_Offer B</th>\n",
              "      <th>offer_Offer C</th>\n",
              "      <th>offer_Offer D</th>\n",
              "      <th>offer_Offer E</th>\n",
              "    </tr>\n",
              "  </thead>\n",
              "  <tbody>\n",
              "    <tr>\n",
              "      <th>count</th>\n",
              "      <td>7043.00</td>\n",
              "      <td>7043.00</td>\n",
              "      <td>7043.00</td>\n",
              "      <td>7043.00</td>\n",
              "      <td>7043.00</td>\n",
              "      <td>7043.00</td>\n",
              "      <td>7043.00</td>\n",
              "      <td>7043.00</td>\n",
              "      <td>7043.00</td>\n",
              "      <td>7043.00</td>\n",
              "      <td>...</td>\n",
              "      <td>7043.00</td>\n",
              "      <td>7043.00</td>\n",
              "      <td>7043.00</td>\n",
              "      <td>7043.00</td>\n",
              "      <td>7043.00</td>\n",
              "      <td>7043.00</td>\n",
              "      <td>7043.00</td>\n",
              "      <td>7043.00</td>\n",
              "      <td>7043.00</td>\n",
              "      <td>7043.00</td>\n",
              "    </tr>\n",
              "    <tr>\n",
              "      <th>mean</th>\n",
              "      <td>0.43</td>\n",
              "      <td>0.42</td>\n",
              "      <td>0.24</td>\n",
              "      <td>0.29</td>\n",
              "      <td>0.34</td>\n",
              "      <td>0.34</td>\n",
              "      <td>0.29</td>\n",
              "      <td>0.67</td>\n",
              "      <td>0.38</td>\n",
              "      <td>0.59</td>\n",
              "      <td>...</td>\n",
              "      <td>0.39</td>\n",
              "      <td>0.05</td>\n",
              "      <td>0.23</td>\n",
              "      <td>0.43</td>\n",
              "      <td>0.22</td>\n",
              "      <td>0.07</td>\n",
              "      <td>0.12</td>\n",
              "      <td>0.06</td>\n",
              "      <td>0.09</td>\n",
              "      <td>0.11</td>\n",
              "    </tr>\n",
              "    <tr>\n",
              "      <th>std</th>\n",
              "      <td>0.40</td>\n",
              "      <td>0.49</td>\n",
              "      <td>0.24</td>\n",
              "      <td>0.45</td>\n",
              "      <td>0.48</td>\n",
              "      <td>0.48</td>\n",
              "      <td>0.45</td>\n",
              "      <td>0.47</td>\n",
              "      <td>0.42</td>\n",
              "      <td>0.49</td>\n",
              "      <td>...</td>\n",
              "      <td>0.49</td>\n",
              "      <td>0.23</td>\n",
              "      <td>0.42</td>\n",
              "      <td>0.50</td>\n",
              "      <td>0.41</td>\n",
              "      <td>0.26</td>\n",
              "      <td>0.32</td>\n",
              "      <td>0.24</td>\n",
              "      <td>0.28</td>\n",
              "      <td>0.32</td>\n",
              "    </tr>\n",
              "    <tr>\n",
              "      <th>min</th>\n",
              "      <td>0.00</td>\n",
              "      <td>0.00</td>\n",
              "      <td>0.00</td>\n",
              "      <td>0.00</td>\n",
              "      <td>0.00</td>\n",
              "      <td>0.00</td>\n",
              "      <td>0.00</td>\n",
              "      <td>0.00</td>\n",
              "      <td>0.00</td>\n",
              "      <td>0.00</td>\n",
              "      <td>...</td>\n",
              "      <td>0.00</td>\n",
              "      <td>0.00</td>\n",
              "      <td>0.00</td>\n",
              "      <td>0.00</td>\n",
              "      <td>0.00</td>\n",
              "      <td>0.00</td>\n",
              "      <td>0.00</td>\n",
              "      <td>0.00</td>\n",
              "      <td>0.00</td>\n",
              "      <td>0.00</td>\n",
              "    </tr>\n",
              "    <tr>\n",
              "      <th>25%</th>\n",
              "      <td>0.00</td>\n",
              "      <td>0.00</td>\n",
              "      <td>0.04</td>\n",
              "      <td>0.00</td>\n",
              "      <td>0.00</td>\n",
              "      <td>0.00</td>\n",
              "      <td>0.00</td>\n",
              "      <td>0.00</td>\n",
              "      <td>0.00</td>\n",
              "      <td>0.00</td>\n",
              "      <td>...</td>\n",
              "      <td>0.00</td>\n",
              "      <td>0.00</td>\n",
              "      <td>0.00</td>\n",
              "      <td>0.00</td>\n",
              "      <td>0.00</td>\n",
              "      <td>0.00</td>\n",
              "      <td>0.00</td>\n",
              "      <td>0.00</td>\n",
              "      <td>0.00</td>\n",
              "      <td>0.00</td>\n",
              "    </tr>\n",
              "    <tr>\n",
              "      <th>50%</th>\n",
              "      <td>0.25</td>\n",
              "      <td>0.00</td>\n",
              "      <td>0.20</td>\n",
              "      <td>0.00</td>\n",
              "      <td>0.00</td>\n",
              "      <td>0.00</td>\n",
              "      <td>0.00</td>\n",
              "      <td>1.00</td>\n",
              "      <td>0.00</td>\n",
              "      <td>1.00</td>\n",
              "      <td>...</td>\n",
              "      <td>0.00</td>\n",
              "      <td>0.00</td>\n",
              "      <td>0.00</td>\n",
              "      <td>0.00</td>\n",
              "      <td>0.00</td>\n",
              "      <td>0.00</td>\n",
              "      <td>0.00</td>\n",
              "      <td>0.00</td>\n",
              "      <td>0.00</td>\n",
              "      <td>0.00</td>\n",
              "    </tr>\n",
              "    <tr>\n",
              "      <th>75%</th>\n",
              "      <td>0.75</td>\n",
              "      <td>1.00</td>\n",
              "      <td>0.32</td>\n",
              "      <td>1.00</td>\n",
              "      <td>1.00</td>\n",
              "      <td>1.00</td>\n",
              "      <td>1.00</td>\n",
              "      <td>1.00</td>\n",
              "      <td>1.00</td>\n",
              "      <td>1.00</td>\n",
              "      <td>...</td>\n",
              "      <td>1.00</td>\n",
              "      <td>0.00</td>\n",
              "      <td>0.00</td>\n",
              "      <td>1.00</td>\n",
              "      <td>0.00</td>\n",
              "      <td>0.00</td>\n",
              "      <td>0.00</td>\n",
              "      <td>0.00</td>\n",
              "      <td>0.00</td>\n",
              "      <td>0.00</td>\n",
              "    </tr>\n",
              "    <tr>\n",
              "      <th>max</th>\n",
              "      <td>1.00</td>\n",
              "      <td>1.00</td>\n",
              "      <td>1.00</td>\n",
              "      <td>1.00</td>\n",
              "      <td>1.00</td>\n",
              "      <td>1.00</td>\n",
              "      <td>1.00</td>\n",
              "      <td>1.00</td>\n",
              "      <td>1.00</td>\n",
              "      <td>1.00</td>\n",
              "      <td>...</td>\n",
              "      <td>1.00</td>\n",
              "      <td>1.00</td>\n",
              "      <td>1.00</td>\n",
              "      <td>1.00</td>\n",
              "      <td>1.00</td>\n",
              "      <td>1.00</td>\n",
              "      <td>1.00</td>\n",
              "      <td>1.00</td>\n",
              "      <td>1.00</td>\n",
              "      <td>1.00</td>\n",
              "    </tr>\n",
              "  </tbody>\n",
              "</table>\n",
              "<p>8 rows × 23 columns</p>\n",
              "</div>\n",
              "      <button class=\"colab-df-convert\" onclick=\"convertToInteractive('df-abb943c5-e176-4b3d-87ff-3739d5ba0c0a')\"\n",
              "              title=\"Convert this dataframe to an interactive table.\"\n",
              "              style=\"display:none;\">\n",
              "        \n",
              "  <svg xmlns=\"http://www.w3.org/2000/svg\" height=\"24px\"viewBox=\"0 0 24 24\"\n",
              "       width=\"24px\">\n",
              "    <path d=\"M0 0h24v24H0V0z\" fill=\"none\"/>\n",
              "    <path d=\"M18.56 5.44l.94 2.06.94-2.06 2.06-.94-2.06-.94-.94-2.06-.94 2.06-2.06.94zm-11 1L8.5 8.5l.94-2.06 2.06-.94-2.06-.94L8.5 2.5l-.94 2.06-2.06.94zm10 10l.94 2.06.94-2.06 2.06-.94-2.06-.94-.94-2.06-.94 2.06-2.06.94z\"/><path d=\"M17.41 7.96l-1.37-1.37c-.4-.4-.92-.59-1.43-.59-.52 0-1.04.2-1.43.59L10.3 9.45l-7.72 7.72c-.78.78-.78 2.05 0 2.83L4 21.41c.39.39.9.59 1.41.59.51 0 1.02-.2 1.41-.59l7.78-7.78 2.81-2.81c.8-.78.8-2.07 0-2.86zM5.41 20L4 18.59l7.72-7.72 1.47 1.35L5.41 20z\"/>\n",
              "  </svg>\n",
              "      </button>\n",
              "      \n",
              "  <style>\n",
              "    .colab-df-container {\n",
              "      display:flex;\n",
              "      flex-wrap:wrap;\n",
              "      gap: 12px;\n",
              "    }\n",
              "\n",
              "    .colab-df-convert {\n",
              "      background-color: #E8F0FE;\n",
              "      border: none;\n",
              "      border-radius: 50%;\n",
              "      cursor: pointer;\n",
              "      display: none;\n",
              "      fill: #1967D2;\n",
              "      height: 32px;\n",
              "      padding: 0 0 0 0;\n",
              "      width: 32px;\n",
              "    }\n",
              "\n",
              "    .colab-df-convert:hover {\n",
              "      background-color: #E2EBFA;\n",
              "      box-shadow: 0px 1px 2px rgba(60, 64, 67, 0.3), 0px 1px 3px 1px rgba(60, 64, 67, 0.15);\n",
              "      fill: #174EA6;\n",
              "    }\n",
              "\n",
              "    [theme=dark] .colab-df-convert {\n",
              "      background-color: #3B4455;\n",
              "      fill: #D2E3FC;\n",
              "    }\n",
              "\n",
              "    [theme=dark] .colab-df-convert:hover {\n",
              "      background-color: #434B5C;\n",
              "      box-shadow: 0px 1px 3px 1px rgba(0, 0, 0, 0.15);\n",
              "      filter: drop-shadow(0px 1px 2px rgba(0, 0, 0, 0.3));\n",
              "      fill: #FFFFFF;\n",
              "    }\n",
              "  </style>\n",
              "\n",
              "      <script>\n",
              "        const buttonEl =\n",
              "          document.querySelector('#df-abb943c5-e176-4b3d-87ff-3739d5ba0c0a button.colab-df-convert');\n",
              "        buttonEl.style.display =\n",
              "          google.colab.kernel.accessAllowed ? 'block' : 'none';\n",
              "\n",
              "        async function convertToInteractive(key) {\n",
              "          const element = document.querySelector('#df-abb943c5-e176-4b3d-87ff-3739d5ba0c0a');\n",
              "          const dataTable =\n",
              "            await google.colab.kernel.invokeFunction('convertToInteractive',\n",
              "                                                     [key], {});\n",
              "          if (!dataTable) return;\n",
              "\n",
              "          const docLinkHtml = 'Like what you see? Visit the ' +\n",
              "            '<a target=\"_blank\" href=https://colab.research.google.com/notebooks/data_table.ipynb>data table notebook</a>'\n",
              "            + ' to learn more about interactive tables.';\n",
              "          element.innerHTML = '';\n",
              "          dataTable['output_type'] = 'display_data';\n",
              "          await google.colab.output.renderOutput(dataTable, element);\n",
              "          const docLink = document.createElement('div');\n",
              "          docLink.innerHTML = docLinkHtml;\n",
              "          element.appendChild(docLink);\n",
              "        }\n",
              "      </script>\n",
              "    </div>\n",
              "  </div>\n",
              "  "
            ]
          },
          "metadata": {},
          "execution_count": 4
        }
      ]
    },
    {
      "cell_type": "markdown",
      "source": [
        "###3.2_Identify the Variables data types and their unique values\n",
        "Identify which variables are binary, categorical and not ordinal, categorical and ordinal, and numeric. The non-numeric features will need to be encoded using methods we have discussed in the course.\n",
        "Start by identifying the number of unique values each variable takes, then create list variables for categorical, numeric, binary, and ordinal variables.\n",
        "Note that the variable 'months' can be treated as numeric, but it may be more convenient to transform it to an ordinal variable.\n",
        "For the other categorical variables, examine their values to determine which may be encoded ordinally."
      ],
      "metadata": {
        "id": "oyeC88sXXCNl"
      }
    },
    {
      "cell_type": "code",
      "source": [
        "df_uniques = pd.DataFrame([[i, len(df[i].unique())] for i in df.columns], columns=['Variable', 'Unique Values']).set_index('Variable')\n",
        "df_uniques"
      ],
      "metadata": {
        "colab": {
          "base_uri": "https://localhost:8080/",
          "height": 802
        },
        "id": "Bj4yMuslUlwx",
        "outputId": "f8165a6e-885a-4bd6-a832-f17627495077"
      },
      "execution_count": 10,
      "outputs": [
        {
          "output_type": "execute_result",
          "data": {
            "text/plain": [
              "                           Unique Values\n",
              "Variable                                \n",
              "months                                 5\n",
              "multiple                               2\n",
              "gb_mon                                50\n",
              "security                               2\n",
              "backup                                 2\n",
              "protection                             2\n",
              "support                                2\n",
              "unlimited                              2\n",
              "contract                               3\n",
              "paperless                              2\n",
              "monthly                             1585\n",
              "satisfaction                           5\n",
              "churn_value                            2\n",
              "payment_Credit Card                    2\n",
              "payment_Mailed Check                   2\n",
              "internet_type_DSL                      2\n",
              "internet_type_Fiber Optic              2\n",
              "internet_type_None                     2\n",
              "offer_Offer A                          2\n",
              "offer_Offer B                          2\n",
              "offer_Offer C                          2\n",
              "offer_Offer D                          2\n",
              "offer_Offer E                          2"
            ],
            "text/html": [
              "\n",
              "  <div id=\"df-b1ae7f21-1d99-4501-8618-fd37224e2982\">\n",
              "    <div class=\"colab-df-container\">\n",
              "      <div>\n",
              "<style scoped>\n",
              "    .dataframe tbody tr th:only-of-type {\n",
              "        vertical-align: middle;\n",
              "    }\n",
              "\n",
              "    .dataframe tbody tr th {\n",
              "        vertical-align: top;\n",
              "    }\n",
              "\n",
              "    .dataframe thead th {\n",
              "        text-align: right;\n",
              "    }\n",
              "</style>\n",
              "<table border=\"1\" class=\"dataframe\">\n",
              "  <thead>\n",
              "    <tr style=\"text-align: right;\">\n",
              "      <th></th>\n",
              "      <th>Unique Values</th>\n",
              "    </tr>\n",
              "    <tr>\n",
              "      <th>Variable</th>\n",
              "      <th></th>\n",
              "    </tr>\n",
              "  </thead>\n",
              "  <tbody>\n",
              "    <tr>\n",
              "      <th>months</th>\n",
              "      <td>5</td>\n",
              "    </tr>\n",
              "    <tr>\n",
              "      <th>multiple</th>\n",
              "      <td>2</td>\n",
              "    </tr>\n",
              "    <tr>\n",
              "      <th>gb_mon</th>\n",
              "      <td>50</td>\n",
              "    </tr>\n",
              "    <tr>\n",
              "      <th>security</th>\n",
              "      <td>2</td>\n",
              "    </tr>\n",
              "    <tr>\n",
              "      <th>backup</th>\n",
              "      <td>2</td>\n",
              "    </tr>\n",
              "    <tr>\n",
              "      <th>protection</th>\n",
              "      <td>2</td>\n",
              "    </tr>\n",
              "    <tr>\n",
              "      <th>support</th>\n",
              "      <td>2</td>\n",
              "    </tr>\n",
              "    <tr>\n",
              "      <th>unlimited</th>\n",
              "      <td>2</td>\n",
              "    </tr>\n",
              "    <tr>\n",
              "      <th>contract</th>\n",
              "      <td>3</td>\n",
              "    </tr>\n",
              "    <tr>\n",
              "      <th>paperless</th>\n",
              "      <td>2</td>\n",
              "    </tr>\n",
              "    <tr>\n",
              "      <th>monthly</th>\n",
              "      <td>1585</td>\n",
              "    </tr>\n",
              "    <tr>\n",
              "      <th>satisfaction</th>\n",
              "      <td>5</td>\n",
              "    </tr>\n",
              "    <tr>\n",
              "      <th>churn_value</th>\n",
              "      <td>2</td>\n",
              "    </tr>\n",
              "    <tr>\n",
              "      <th>payment_Credit Card</th>\n",
              "      <td>2</td>\n",
              "    </tr>\n",
              "    <tr>\n",
              "      <th>payment_Mailed Check</th>\n",
              "      <td>2</td>\n",
              "    </tr>\n",
              "    <tr>\n",
              "      <th>internet_type_DSL</th>\n",
              "      <td>2</td>\n",
              "    </tr>\n",
              "    <tr>\n",
              "      <th>internet_type_Fiber Optic</th>\n",
              "      <td>2</td>\n",
              "    </tr>\n",
              "    <tr>\n",
              "      <th>internet_type_None</th>\n",
              "      <td>2</td>\n",
              "    </tr>\n",
              "    <tr>\n",
              "      <th>offer_Offer A</th>\n",
              "      <td>2</td>\n",
              "    </tr>\n",
              "    <tr>\n",
              "      <th>offer_Offer B</th>\n",
              "      <td>2</td>\n",
              "    </tr>\n",
              "    <tr>\n",
              "      <th>offer_Offer C</th>\n",
              "      <td>2</td>\n",
              "    </tr>\n",
              "    <tr>\n",
              "      <th>offer_Offer D</th>\n",
              "      <td>2</td>\n",
              "    </tr>\n",
              "    <tr>\n",
              "      <th>offer_Offer E</th>\n",
              "      <td>2</td>\n",
              "    </tr>\n",
              "  </tbody>\n",
              "</table>\n",
              "</div>\n",
              "      <button class=\"colab-df-convert\" onclick=\"convertToInteractive('df-b1ae7f21-1d99-4501-8618-fd37224e2982')\"\n",
              "              title=\"Convert this dataframe to an interactive table.\"\n",
              "              style=\"display:none;\">\n",
              "        \n",
              "  <svg xmlns=\"http://www.w3.org/2000/svg\" height=\"24px\"viewBox=\"0 0 24 24\"\n",
              "       width=\"24px\">\n",
              "    <path d=\"M0 0h24v24H0V0z\" fill=\"none\"/>\n",
              "    <path d=\"M18.56 5.44l.94 2.06.94-2.06 2.06-.94-2.06-.94-.94-2.06-.94 2.06-2.06.94zm-11 1L8.5 8.5l.94-2.06 2.06-.94-2.06-.94L8.5 2.5l-.94 2.06-2.06.94zm10 10l.94 2.06.94-2.06 2.06-.94-2.06-.94-.94-2.06-.94 2.06-2.06.94z\"/><path d=\"M17.41 7.96l-1.37-1.37c-.4-.4-.92-.59-1.43-.59-.52 0-1.04.2-1.43.59L10.3 9.45l-7.72 7.72c-.78.78-.78 2.05 0 2.83L4 21.41c.39.39.9.59 1.41.59.51 0 1.02-.2 1.41-.59l7.78-7.78 2.81-2.81c.8-.78.8-2.07 0-2.86zM5.41 20L4 18.59l7.72-7.72 1.47 1.35L5.41 20z\"/>\n",
              "  </svg>\n",
              "      </button>\n",
              "      \n",
              "  <style>\n",
              "    .colab-df-container {\n",
              "      display:flex;\n",
              "      flex-wrap:wrap;\n",
              "      gap: 12px;\n",
              "    }\n",
              "\n",
              "    .colab-df-convert {\n",
              "      background-color: #E8F0FE;\n",
              "      border: none;\n",
              "      border-radius: 50%;\n",
              "      cursor: pointer;\n",
              "      display: none;\n",
              "      fill: #1967D2;\n",
              "      height: 32px;\n",
              "      padding: 0 0 0 0;\n",
              "      width: 32px;\n",
              "    }\n",
              "\n",
              "    .colab-df-convert:hover {\n",
              "      background-color: #E2EBFA;\n",
              "      box-shadow: 0px 1px 2px rgba(60, 64, 67, 0.3), 0px 1px 3px 1px rgba(60, 64, 67, 0.15);\n",
              "      fill: #174EA6;\n",
              "    }\n",
              "\n",
              "    [theme=dark] .colab-df-convert {\n",
              "      background-color: #3B4455;\n",
              "      fill: #D2E3FC;\n",
              "    }\n",
              "\n",
              "    [theme=dark] .colab-df-convert:hover {\n",
              "      background-color: #434B5C;\n",
              "      box-shadow: 0px 1px 3px 1px rgba(0, 0, 0, 0.15);\n",
              "      filter: drop-shadow(0px 1px 2px rgba(0, 0, 0, 0.3));\n",
              "      fill: #FFFFFF;\n",
              "    }\n",
              "  </style>\n",
              "\n",
              "      <script>\n",
              "        const buttonEl =\n",
              "          document.querySelector('#df-b1ae7f21-1d99-4501-8618-fd37224e2982 button.colab-df-convert');\n",
              "        buttonEl.style.display =\n",
              "          google.colab.kernel.accessAllowed ? 'block' : 'none';\n",
              "\n",
              "        async function convertToInteractive(key) {\n",
              "          const element = document.querySelector('#df-b1ae7f21-1d99-4501-8618-fd37224e2982');\n",
              "          const dataTable =\n",
              "            await google.colab.kernel.invokeFunction('convertToInteractive',\n",
              "                                                     [key], {});\n",
              "          if (!dataTable) return;\n",
              "\n",
              "          const docLinkHtml = 'Like what you see? Visit the ' +\n",
              "            '<a target=\"_blank\" href=https://colab.research.google.com/notebooks/data_table.ipynb>data table notebook</a>'\n",
              "            + ' to learn more about interactive tables.';\n",
              "          element.innerHTML = '';\n",
              "          dataTable['output_type'] = 'display_data';\n",
              "          await google.colab.output.renderOutput(dataTable, element);\n",
              "          const docLink = document.createElement('div');\n",
              "          docLink.innerHTML = docLinkHtml;\n",
              "          element.appendChild(docLink);\n",
              "        }\n",
              "      </script>\n",
              "    </div>\n",
              "  </div>\n",
              "  "
            ]
          },
          "metadata": {},
          "execution_count": 10
        }
      ]
    },
    {
      "cell_type": "markdown",
      "source": [
        "####**Explanation of the 3.2**\n",
        "The given code snippet is using the pandas library to create a DataFrame named df_uniques. Let's break down the code step by step:\n",
        "\n",
        "**[[i, len(df[i].unique())] for i in df.columns]**\n",
        "\n",
        "This part of the code uses a list comprehension to\n",
        "iterate over the columns of a DataFrame df.\n",
        "-For each column i, it creates a list containing two elements:\n",
        "the column name i and the number of unique values in that column, which is obtained by calling df[i].unique() and then calculating the length of the resulting array using len().\n",
        "-The output is a list of lists, where each inner list contains the column name and the count of unique values for that column.\n",
        "\n",
        "**columns=['Variable', 'Unique Values']**\n",
        "This part specifies the column names for the resulting DataFrame.\n",
        "-The first column is named 'Variable' and will contain the column names from the original DataFrame df.\n",
        "-The second column is named 'Unique Values' and will contain the counts of unique values.\n",
        "\n",
        ".set_index('Variable')\n",
        "This method call sets the 'Variable' column as the index of the DataFrame df_uniques. This means that the 'Variable' column will be used as the row labels in the resulting DataFrame.\n",
        "\n",
        "So, overall, the code creates a new DataFrame df_uniques that displays the unique value counts for each column in the original DataFrame df. The 'Variable' column contains the names of the columns, and the 'Unique Values' column contains the corresponding counts of unique values for each column. The resulting DataFrame has 'Variable' as its index.\n",
        "\n",
        "**Note: Double Square Brackets**\n",
        "In Python, the double square brackets [[ ... ]] represent a nested list. A nested list is a list that contains other lists as its elements.\n",
        "\n",
        "In the context of the code snippet you provided, [[i, len(df[i].unique())] for i in df.columns] is a list comprehension that creates a nested list. It iterates over the columns of the DataFrame df and generates a list with two elements for each column. The first element is i, which represents the column name, and the second element is len(df[i].unique()), which represents the count of unique values in that column.\n",
        "\n",
        "For example, if df has three columns ['A', 'B', 'C'], the list comprehension will generate a nested list like this:\n",
        "\n",
        "**bold text**[\n",
        "  ['A', unique_values_A],\n",
        "  ['B', unique_values_B],\n",
        "  ['C', unique_values_C]\n",
        "**bold text**]\n",
        "\n",
        "Here, unique_values_A, unique_values_B, and unique_values_C represent the counts of unique values in columns 'A', 'B', and 'C' respectively.\n",
        "\n",
        "The resulting nested list is then used to create a DataFrame using the pandas library, with 'Variable' and 'Unique Values' as column names"
      ],
      "metadata": {
        "id": "M8EiAdKUYqDO"
      }
    },
    {
      "cell_type": "markdown",
      "source": [
        "###3.3 Identifying Binary Categorical Variables"
      ],
      "metadata": {
        "id": "ZnujqvFyxCqn"
      }
    },
    {
      "cell_type": "code",
      "source": [
        "binary_variables = list(df_uniques[df_uniques['Unique Values']== 2].index)\n",
        "binary_variables"
      ],
      "metadata": {
        "colab": {
          "base_uri": "https://localhost:8080/"
        },
        "id": "9G4QBSlBXexE",
        "outputId": "9bc12578-47fd-48b2-92b4-c826f645d863"
      },
      "execution_count": 6,
      "outputs": [
        {
          "output_type": "execute_result",
          "data": {
            "text/plain": [
              "['multiple',\n",
              " 'security',\n",
              " 'backup',\n",
              " 'protection',\n",
              " 'support',\n",
              " 'unlimited',\n",
              " 'paperless',\n",
              " 'churn_value',\n",
              " 'payment_Credit Card',\n",
              " 'payment_Mailed Check',\n",
              " 'internet_type_DSL',\n",
              " 'internet_type_Fiber Optic',\n",
              " 'internet_type_None',\n",
              " 'offer_Offer A',\n",
              " 'offer_Offer B',\n",
              " 'offer_Offer C',\n",
              " 'offer_Offer D',\n",
              " 'offer_Offer E']"
            ]
          },
          "metadata": {},
          "execution_count": 6
        }
      ]
    },
    {
      "cell_type": "markdown",
      "source": [
        "###3.3_Explanation\n",
        "The given code snippet is selecting binary variables from a DataFrame df_uniques based on a condition. Let's break down the code step by step:\n",
        "\n",
        "**df_uniques['Unique Values'] == 2**\n",
        "This part of the code checks a condition for each row in the 'Unique Values' column of the DataFrame df_uniques. It returns a boolean Series where True indicates that the corresponding row has a value of 2 in the 'Unique Values' column and False otherwise.\n",
        "\n",
        "\n",
        "**df_uniques[df_uniques['Unique Values'] == 2]**\n",
        "This code uses the boolean Series as a filter to select rows from the DataFrame df_uniques. It returns a new DataFrame containing only the rows where the condition is True. In other words, it filters the DataFrame to include only the rows where the 'Unique Values' column has a value of 2.\n",
        "\n",
        "list(df_uniques[df_uniques['Unique Values'] == 2].index)\n",
        "This part retrieves the index values of the filtered DataFrame and converts them into a list. The index attribute of a DataFrame represents the row labels or the index values of the DataFrame. By applying the list() function, the index values are converted into a Python list.\n",
        "\n",
        "Therefore, the overall purpose of the code is to identify binary variables from the DataFrame df_uniques. It looks for rows in df_uniques where the 'Unique Values' column has a value of 2, indicating that those variables have only two distinct values. The resulting list, stored in binary_variables, contains the index values (column names) of the binary variables.\n",
        "\n",
        "**Note**\n",
        "The reason for using df_uniques[df_uniques['Unique Values'] == 2] with double brackets is to perform boolean indexing in pandas.\n",
        "\n",
        "In pandas, boolean indexing allows you to select specific rows from a DataFrame based on a boolean condition. The condition is applied to the DataFrame, resulting in a boolean Series where each element represents whether the corresponding row satisfies the condition or not.\n",
        "\n",
        "In the given snippet, df_uniques['Unique Values'] == 2 creates a boolean Series by comparing each value in the 'Unique Values' column of the DataFrame df_uniques to the value 2. The resulting boolean Series has True for rows where the condition is satisfied (i.e., where the 'Unique Values' column equals 2) and False for rows that do not satisfy the condition.\n",
        "\n",
        "To select the rows that satisfy the condition, we use this boolean Series as an index for the DataFrame df_uniques. By enclosing df_uniques['Unique Values'] == 2 within the square brackets [], we use it as a filter to select only the rows of df_uniques where the condition is True.\n",
        "\n",
        "Thus, the expression df_uniques[df_uniques['Unique Values'] == 2] returns a new DataFrame that includes only the rows where the 'Unique Values' column has a value of 2. The double brackets are used to denote the boolean indexing operation and select the desired rows based on the condition"
      ],
      "metadata": {
        "id": "eqjUGTLEcSGQ"
      }
    },
    {
      "cell_type": "markdown",
      "source": [
        "###3_4. Identifying categorical variables that they are not binary"
      ],
      "metadata": {
        "id": "lIuqrDggxohh"
      }
    },
    {
      "cell_type": "code",
      "source": [
        "categorical_variables = list(df_uniques[(6 >= df_uniques['Unique Values']) & (df_uniques['Unique Values'] > 2)].index)\n",
        "categorical_variables"
      ],
      "metadata": {
        "colab": {
          "base_uri": "https://localhost:8080/"
        },
        "id": "PweTsW7CdUdN",
        "outputId": "51af5988-72f2-434c-dc65-dfeb2dc52c20"
      },
      "execution_count": 7,
      "outputs": [
        {
          "output_type": "execute_result",
          "data": {
            "text/plain": [
              "['months', 'contract', 'satisfaction']"
            ]
          },
          "metadata": {},
          "execution_count": 7
        }
      ]
    },
    {
      "cell_type": "markdown",
      "source": [
        "###3_4. Eplanation\n",
        "The given code snippet is selecting categorical variables from a DataFrame df_uniques based on certain conditions. Let's break it down step by step:\n",
        "\n",
        "**(6 >= df_uniques['Unique Values']) & (df_uniques['Unique Values'] > 2)**\n",
        "This part of the code creates a boolean Series by evaluating two conditions using logical operators. It checks if the values in the 'Unique Values' column of the DataFrame df_uniques satisfy both conditions: (1) they are greater than 2 and (2) they are less than or equal to 6. The result is a boolean Series where True indicates that the corresponding row satisfies both conditions, and False otherwise.\n",
        "\n",
        "**df_uniques[(6 >= df_uniques['Unique Values']) & (df_uniques['Unique Values'] > 2)]**\n",
        "This code uses the boolean Series as a filter to select rows from the DataFrame df_uniques. It returns a new DataFrame containing only the rows where both conditions are True. In other words, it filters the DataFrame to include only the rows where the 'Unique Values' column has a value greater than 2 and less than or equal to 6.\n",
        "\n",
        "**list(df_uniques[(6 >= df_uniques['Unique Values']) & (df_uniques['Unique Values'] > 2)].index)**\n",
        "This part retrieves the index values (column names) of the filtered DataFrame and converts them into a list. The index attribute of a DataFrame represents the row labels or the index values of the DataFrame. By applying the list() function, the index values are converted into a Python list.\n",
        "\n",
        "In summary, the code selects categorical variables from the DataFrame df_uniques based on specific conditions. It filters the DataFrame to include only the rows where the 'Unique Values' column has a value greater than 2 and less than or equal to 6. The resulting list, stored in categorical_variables, contains the index values (column names) of the categorical variables."
      ],
      "metadata": {
        "id": "RB5zaEbstt78"
      }
    },
    {
      "cell_type": "markdown",
      "source": [
        "###3_5. Creating lists of non-binary categorical variables with their unique values"
      ],
      "metadata": {
        "id": "iRky3y6RyTDy"
      }
    },
    {
      "cell_type": "code",
      "source": [
        "[[i, list(df[i].unique())] for i in categorical_variables]"
      ],
      "metadata": {
        "colab": {
          "base_uri": "https://localhost:8080/"
        },
        "id": "tumUAqVisi4v",
        "outputId": "fcb657ff-0470-40d8-843a-df30d7f45bf4"
      },
      "execution_count": 9,
      "outputs": [
        {
          "output_type": "execute_result",
          "data": {
            "text/plain": [
              "[['months', [0.0, 0.25, 0.5, 1.0, 0.75]],\n",
              " ['contract', [0.0, 0.5, 1.0]],\n",
              " ['satisfaction', [0.5, 0.25, 0.0, 0.75, 1.0]]]"
            ]
          },
          "metadata": {},
          "execution_count": 9
        }
      ]
    },
    {
      "cell_type": "markdown",
      "source": [
        "###3_5. Explanation\n",
        "The code snippet [[i, list(df[i].unique())] for i in categorical_variables] uses a list comprehension to create a nested list that contains the column names and unique values of categorical variables in the DataFrame df. Let's break it down:\n",
        "\n",
        "**[i, list(df[i].unique())]**\n",
        "This part of the code creates an inner list for each categorical variable i in categorical_variables. Each inner list consists of two elements: the variable name i and a list of its unique values obtained by calling df[i].unique().\n",
        "\n",
        "**for i in categorical_variables**\n",
        "This loop iterates over each categorical variable i in the list categorical_variables.\n",
        "\n",
        "\n",
        "**[[i, list(df[i].unique())] for i in categorical_variables]**\n",
        "This is the list comprehension statement that combines the above two parts. It creates a nested list by iterating over each categorical variable in categorical_variables and generating the inner list for each variable.\n",
        "\n",
        "Overall, the code generates a nested list that represents the categorical variables in the DataFrame df along with their unique values. Each inner list contains the variable name (column name) and a list of its unique values. The resulting nested list provides a summary of the categorical variables and their distinct values in the DataFrame.\n",
        "\n",
        "**Note**\n",
        "The use of double brackets [[i, list(df[i].unique())] for i in categorical_variables] in the given code snippet is related to the creation of a nested list using a list comprehension.\n",
        "\n",
        "In Python, double brackets [[ ... ]] are used to create a nested list. A nested list is a list that contains other lists as its elements. It allows for a hierarchical structure where each inner list represents a separate entity within the outer list.\n",
        "\n",
        "In the context of the code snippet above:\n",
        "\n",
        "**[[i, list(df[i].unique())] for i in categorical_variables]**\n",
        "This code uses a list comprehension to iterate over the categorical variables in the categorical_variables list. For each categorical variable i, it creates an inner list with two elements: the variable name i and a list of its unique values obtained by calling **df[i].unique()**.\n",
        "\n",
        "The resulting list comprehension generates a nested list where each inner list represents a categorical variable along with its unique values. The outer list contains all these inner lists, providing a summary of the categorical variables and their corresponding unique values.\n",
        "\n",
        "To summarize, **the double brackets [[ ... ]]** in the code snippet are used to indicate the creation of a nested list. Each inner list represents a categorical variable and its unique values, and the outer list contains all these inner lists, forming a hierarchical structure of categorical variables and their information.\n"
      ],
      "metadata": {
        "id": "vsVxnszmynlO"
      }
    },
    {
      "cell_type": "markdown",
      "source": [
        "###3_6. Defining Ordinal cateogrical variable"
      ],
      "metadata": {
        "id": "w0YVAgNJ4BLU"
      }
    },
    {
      "cell_type": "code",
      "source": [
        "ordinal_variables =['contact', 'satisfaction']"
      ],
      "metadata": {
        "id": "eLOETWtD0LCD"
      },
      "execution_count": 13,
      "outputs": []
    },
    {
      "cell_type": "code",
      "source": [
        "df['months'].unique()"
      ],
      "metadata": {
        "colab": {
          "base_uri": "https://localhost:8080/"
        },
        "id": "O5XakmqQ0cC9",
        "outputId": "3cfb6cd6-cfc0-4e78-f62b-7f62433ba71a"
      },
      "execution_count": 15,
      "outputs": [
        {
          "output_type": "execute_result",
          "data": {
            "text/plain": [
              "array([0.  , 0.25, 0.5 , 1.  , 0.75])"
            ]
          },
          "metadata": {},
          "execution_count": 15
        }
      ]
    },
    {
      "cell_type": "code",
      "source": [
        "ordinal_variables.append('months')"
      ],
      "metadata": {
        "id": "-aEJd75G0jPG"
      },
      "execution_count": null,
      "outputs": []
    },
    {
      "cell_type": "markdown",
      "source": [
        "###3_7. Identifying the numerical variables"
      ],
      "metadata": {
        "id": "HNgSofIm35fg"
      }
    },
    {
      "cell_type": "code",
      "source": [
        "numeric_variables = list(set(df.columns) - set(ordinal_variables) - set(categorical_variables) - set(binary_variables))"
      ],
      "metadata": {
        "id": "R9vMSkNP1NXb"
      },
      "execution_count": 16,
      "outputs": []
    },
    {
      "cell_type": "markdown",
      "source": [
        "###3_7. Explanation\n",
        "The given code snippet numeric_variables = list(set(df.columns) - set(ordinal_variables) - set(categorical_variables) - set(binary_variables)) is used to identify the numeric variables in a DataFrame df based on the given sets of variables.\n",
        "\n",
        "Let's break it down step by step:\n",
        "\n",
        "set(df.columns): This part retrieves a set of all the column names in the DataFrame df. The df.columns attribute returns a list of column names, and by applying set(), it is converted into a set to remove any duplicates.\n",
        "\n",
        "- set(ordinal_variables): Here, the set of ordinal_variables is subtracted from the set of all column names. It removes the elements present in ordinal_variables from the set obtained in the previous step. This step eliminates the ordinal variables from consideration.\n",
        "\n",
        "- set(categorical_variables): Similarly, the set of categorical_variables is subtracted from the result of the previous step. It removes the elements present in categorical_variables from the remaining set. This step eliminates the categorical variables from consideration.\n",
        "\n",
        "- set(binary_variables): The set of binary_variables is subtracted from the result of the previous step. It removes the elements present in binary_variables from the remaining set. This step eliminates the binary variables from consideration.\n",
        "\n",
        "list(...): Finally, the resulting set is converted back to a list using the list() function, storing it in the numeric_variables variable. The numeric_variables list contains the column names of the variables that are not present in ordinal_variables, categorical_variables, or binary_variables. Thus, it represents the numeric variables present in the DataFrame df.\n",
        "\n",
        "In summary, the code snippet creates a list numeric_variables by finding the column names of the numeric variables in the DataFrame df. It excludes the column names from the sets ordinal_variables, categorical_variables, and binary_variables."
      ],
      "metadata": {
        "id": "w_S90jPj1nz5"
      }
    },
    {
      "cell_type": "code",
      "source": [
        "###3_8. Plotting Numerical values histograms to understand visually if they are normally distributed"
      ],
      "metadata": {
        "id": "q5ZxLdnM2HBQ"
      },
      "execution_count": 17,
      "outputs": []
    },
    {
      "cell_type": "code",
      "source": [
        "df[numeric_variables].hist(figsize=(12, 6));"
      ],
      "metadata": {
        "colab": {
          "base_uri": "https://localhost:8080/",
          "height": 545
        },
        "id": "9mYCIlml2e4g",
        "outputId": "1bf39401-ba08-4f24-ec46-10a796f0d3d5"
      },
      "execution_count": 19,
      "outputs": [
        {
          "output_type": "display_data",
          "data": {
            "text/plain": [
              "<Figure size 1200x600 with 2 Axes>"
            ],
            "image/png": "[encoded data removed]"
          },
          "metadata": {}
        }
      ]
    },
    {
      "cell_type": "markdown",
      "source": [
        "###3_8. Convert the 'months' numerical columns into categorical intervals or bins"
      ],
      "metadata": {
        "id": "2IRy-YqS3w7G"
      }
    },
    {
      "cell_type": "code",
      "source": [
        "df['months'] =pd.cut(df['months'], bins=5)"
      ],
      "metadata": {
        "id": "E-G4ih0x2s3a"
      },
      "execution_count": 20,
      "outputs": []
    },
    {
      "cell_type": "markdown",
      "source": [
        "**3_8. Explanation**\n",
        "The code snippet **df['months'] = pd.cut(df['months'], bins=5)** is used to convert a numerical column named 'months' in a DataFrame df into categorical intervals or bins.\n",
        "\n",
        "Let's break down the code:\n",
        "\n",
        "**df['months']**: This part selects the column named 'months' from the DataFrame df. It represents the column containing numerical values that you want to convert into categorical intervals.\n",
        "\n",
        "pd.cut(...): The pd.cut() function from the pandas library is used to cut the selected column into specified bins or intervals.\n",
        "\n",
        "**df['months'], bins=5**: Here, the resulting categorical intervals are assigned back to the column 'months' in the DataFrame df. The parameter bins=5 specifies that the column should be divided into 5 equal-width bins or intervals.\n",
        "\n",
        "The **pd.cut()** function assigns each value in the 'months' column to the corresponding interval based on its value. The intervals are created such that they divide the range of the column's values into equal-width bins. Each bin represents a specific range of values, and the values in the 'months' column are mapped to the corresponding bin based on their value.\n",
        "\n",
        "For example, if the 'months' column originally had values ranging from 0 to 50, the **pd.cut() function would divide this range into 5 equal-width bins, such as [0-10), [10-20), [20-30), [30-40), and [40-50).** Each value in the 'months' column would then be assigned to the respective bin based on its value.\n",
        "\n",
        "By assigning the resulting categorical intervals back to the 'months' column in the DataFrame df, you are effectively converting the numerical column into a categorical variable with specific intervals or bins.\n",
        "\n",
        "Note that the specific binning strategy and interval range may vary based on the data and the parameters you provide to the pd.cut() function"
      ],
      "metadata": {
        "id": "llOCi0mv4f6U"
      }
    },
    {
      "cell_type": "code",
      "source": [],
      "metadata": {
        "id": "NfpkBByW48SH"
      },
      "execution_count": null,
      "outputs": []
    }
  ]
}